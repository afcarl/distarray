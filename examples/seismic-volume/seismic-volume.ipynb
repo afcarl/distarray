{
 "metadata": {
  "name": "",
  "signature": "sha256:41a96802953e342f2a04d7a0f9777615d52879aa6b3e089e1684789349c9732f"
 },
 "nbformat": 3,
 "nbformat_minor": 0,
 "worksheets": [
  {
   "cells": [
    {
     "cell_type": "markdown",
     "metadata": {},
     "source": [
      "DistArray example: A sample seismic volume."
     ]
    },
    {
     "cell_type": "markdown",
     "metadata": {},
     "source": [
      "Start a cluster\n",
      "---------------\n",
      "These examples require an `IPython.parallel` cluster to be running.\n",
      "Outside the notebook, run\n",
      "```\n",
      "dacluster start -n4\n",
      "```"
     ]
    },
    {
     "cell_type": "code",
     "collapsed": false,
     "input": [
      "%matplotlib inline"
     ],
     "language": "python",
     "metadata": {},
     "outputs": [],
     "prompt_number": 35
    },
    {
     "cell_type": "code",
     "collapsed": false,
     "input": [
      "import h5py\n",
      "def get_hdf5_dataset_shape(pathname, key):\n",
      "    ''' Get the shape of the array in the HDF5 file. '''\n",
      "    with h5py.File(pathname, 'r') as f:\n",
      "        dataset = f[key]\n",
      "        shape = dataset.shape\n",
      "    return shape"
     ],
     "language": "python",
     "metadata": {},
     "outputs": [],
     "prompt_number": 36
    },
    {
     "cell_type": "code",
     "collapsed": false,
     "input": [
      "from distarray.dist import Context, Distribution\n",
      "from distarray.dist.distarray import DistArray\n",
      "\n",
      "import os.path\n",
      "from numpy import linspace, float32\n",
      "\n",
      "context = Context()\n",
      "filename = 'seismic.hdf5'\n",
      "key = 'seismic'\n",
      "pathname = os.path.abspath(filename)\n",
      "array_shape = get_hdf5_dataset_shape(pathname, key)\n",
      "print array_shape\n",
      "# Array distribution for volume.\n",
      "ARRAY_DISTRIBUTION = ('b', 'b', 'n')\n",
      "\n",
      "# Physical size of volume.\n",
      "PHYSICAL_X = 10.0\n",
      "PHYSICAL_Y = 10.0\n",
      "PHYSICAL_Z = 20.0\n"
     ],
     "language": "python",
     "metadata": {},
     "outputs": [
      {
       "output_type": "stream",
       "stream": "stdout",
       "text": [
        "(256, 256, 1024)\n"
       ]
      }
     ],
     "prompt_number": 37
    },
    {
     "cell_type": "code",
     "collapsed": false,
     "input": [
      "def scaled_points(num_points, total_size):\n",
      "    ''' Get num_points values, ranging from 0.0 to total_size. '''\n",
      "    p = linspace(0.0, total_size, num_points)\n",
      "    return p\n",
      "\n",
      "# Creation of 'horizons', which in this case are plane sections of the volume.\n",
      "\n",
      "def local_create_horizon(horizon_la, physical_x, physical_y, normal, D):\n",
      "    '''Get the horizon surface where we will place the peak.'''\n",
      "\n",
      "    def plane(x, y, normal, D):\n",
      "        '''Get the depth on the plane where we want to put the peak.'''\n",
      "        from math import sqrt\n",
      "        nx, ny, nz = normal\n",
      "        nmag = sqrt(nx * nx + ny * ny + nz * nz)\n",
      "        nx, ny, nz = nx / nmag, ny / nmag, nz / nmag\n",
      "        # Depth of peak.\n",
      "        z0 = (D - nx * x - ny * y) / nz\n",
      "        return z0\n",
      "\n",
      "    def create_horizon(horizon, physical_xy, normal, D):\n",
      "        ''' Create the horizon plane. '''\n",
      "        shape = horizon.shape\n",
      "        if len(shape) != 2:\n",
      "            raise ValueError('Horizon shape must be 2D.')\n",
      "        for i in xrange(shape[0]):\n",
      "            for j in xrange(shape[1]):\n",
      "                x = physical_xy[i, j, 0]\n",
      "                y = physical_xy[i, j, 1]\n",
      "                horizon[i, j] = plane(x, y, normal=normal, D=D)\n",
      "\n",
      "    from distarray.local import LocalArray\n",
      "    horizon = horizon_la.ndarray\n",
      "    shape = horizon.shape\n",
      "    # Get physical x and y values in an array the same shape as the horizon.\n",
      "    physical_xy = numpy.empty((shape[0], shape[1], 2))\n",
      "    for i in xrange(shape[0]):\n",
      "        for j in xrange(shape[1]):\n",
      "            gi, gj = horizon_la.global_from_local((i, j))\n",
      "            physical_xy[i, j, 0] = physical_x[gi]\n",
      "            physical_xy[i, j, 1] = physical_y[gj]\n",
      "    create_horizon(horizon, physical_xy, normal, D)\n",
      "    res = LocalArray(horizon_la.distribution, buf=horizon)\n",
      "    rtn = proxyize(res)\n",
      "    return rtn\n",
      "\n",
      "\n",
      "def create_horizon(context, shape, physical_x, physical_y, normal, D):\n",
      "    ''' Create a horizon. '''\n",
      "    horizon_dist = (ARRAY_DISTRIBUTION[0], ARRAY_DISTRIBUTION[1])\n",
      "    distribution = Distribution(context, shape, dist=horizon_dist)\n",
      "    horizon_da = DistArray(distribution, dtype=float32)\n",
      "    context.apply(local_create_horizon,\n",
      "                  (horizon_da.key, physical_x, physical_y, normal, D))\n",
      "    return horizon_da\n",
      "\n",
      "\n",
      "def create_horizons(context, shape, physical_x, physical_y):\n",
      "    '''Create some horizons.'''\n",
      "    horizon_1_da = create_horizon(context, shape,\n",
      "                                  physical_x, physical_y,\n",
      "                                  normal=(0.1, -0.2, 1.0), D=10.0)\n",
      "    params_1 = (100.0, 40.0, 0.0, 0.1)\n",
      "    horizon_2_da = create_horizon(context, shape,\n",
      "                                  physical_x, physical_y,\n",
      "                                  normal=(0.4, 0.1, 1.0), D=15.0)\n",
      "    params_2 = (25.0, 15.0, 0.0, 0.7)\n",
      "    rtn = [(horizon_1_da, params_1), (horizon_2_da, params_2)]\n",
      "    return rtn\n",
      "\n",
      "\n",
      "# Creation of the full volume.\n",
      "# We adjust the data values as we pass through the horizons.\n",
      "\n",
      "def local_add_horizon(volume_la, horizon_la, z, horizon_params):\n",
      "    ''' Update the volume to change as one passes through the horizon. '''\n",
      "\n",
      "    def gauss(z, z0, A=100.0, B=40.0, C=2.5, mu=0.1):\n",
      "        ''' A hopefully interesting looking function.\n",
      "\n",
      "        Gaussian, with a step-like function past the gaussian peak.\n",
      "        The peak is at depth z=z0.\n",
      "        '''\n",
      "        from numpy import exp\n",
      "        u = mu * (z - z0) ** 2\n",
      "        v = mu * (z - z0)\n",
      "        # Gaussian.\n",
      "        g = A * exp(-u) + C\n",
      "        # Smooth step.\n",
      "        exp_p = exp(v)\n",
      "        exp_m = exp(-v)\n",
      "        h = B * (exp_p - exp_m) / (exp_p + exp_m)\n",
      "        r = g + h\n",
      "        return r\n",
      "\n",
      "    def add_horizon(vol, hor, z, horizon_params):\n",
      "        ''' Add the effect of a horizon to the seismic volume data. '''\n",
      "        shape = hor.shape\n",
      "        A, B, C, mu = horizon_params\n",
      "        for i in xrange(shape[0]):\n",
      "            for j in xrange(shape[1]):\n",
      "                z0 = hor[i, j]\n",
      "                vol[i, j, :] += gauss(z, z0, A=A, B=B, C=C, mu=mu)\n",
      "        return vol\n",
      "\n",
      "    vol = volume_la.ndarray\n",
      "    hor = horizon_la.ndarray\n",
      "    add_horizon(vol, hor, z, horizon_params)\n",
      "    return volume_la\n",
      "\n",
      "\n",
      "def local_add_random(volume_la):\n",
      "    ''' Add randomness and a constant to the local array data. '''\n",
      "\n",
      "    def add_random(vol, C, R):\n",
      "        ''' Add randomness and a constant to the volume. '''\n",
      "        # Add constant\n",
      "        vol[:, :, :] += C\n",
      "        # Add randomness.\n",
      "        shape = vol.shape\n",
      "        rnd = numpy.random.randn(*shape)\n",
      "        vol[:, :, :] += R * rnd\n",
      "\n",
      "    vol = volume_la.ndarray\n",
      "    add_random(vol, C=2.5, R=2.0)\n",
      "    return volume_la\n",
      "\n",
      "\n",
      "def create_volume(context, shape):\n",
      "    ''' Create a fake seismic volume. We try to make it look interesting. '''\n",
      "    if len(shape) != 3:\n",
      "        raise ValueError('Volume shape must be 3D.')\n",
      "    print('Creating volume array %d x %d x %d...' % (\n",
      "        shape[0], shape[1], shape[2]))\n",
      "    dist = ARRAY_DISTRIBUTION\n",
      "    distribution = Distribution(context, shape, dist=dist)\n",
      "    da = context.zeros(distribution, dtype=float32)\n",
      "    print('Physical coords...')\n",
      "    x = scaled_points(shape[0], PHYSICAL_X)\n",
      "    y = scaled_points(shape[1], PHYSICAL_Y)\n",
      "    z = scaled_points(shape[2], PHYSICAL_Z)\n",
      "    print('Creating horizons...')\n",
      "    horizons_shape = (shape[0], shape[1])\n",
      "    horizons = create_horizons(context, horizons_shape, x, y)\n",
      "    print('Filling array...')\n",
      "    # Add data for each horizon...\n",
      "    for ih, horizon in enumerate(horizons):\n",
      "        print('Adding horizon %d...' % (ih + 1))\n",
      "        horizon_da, horizon_params = horizon\n",
      "        context.apply(local_add_horizon,\n",
      "                      (da.key, horizon_da.key, z, horizon_params))\n",
      "    # Add global randomness.\n",
      "    print('Adding randomness...')\n",
      "    context.apply(local_add_random, (da.key,))\n",
      "    print('Done.')\n",
      "    return da\n"
     ],
     "language": "python",
     "metadata": {},
     "outputs": [],
     "prompt_number": 38
    },
    {
     "cell_type": "code",
     "collapsed": false,
     "input": [
      "vol = create_volume(context, array_shape)\n",
      "print vol"
     ],
     "language": "python",
     "metadata": {},
     "outputs": [
      {
       "output_type": "stream",
       "stream": "stdout",
       "text": [
        "Creating volume array 256 x 256 x 1024...\n",
        "Physical coords..."
       ]
      },
      {
       "output_type": "stream",
       "stream": "stdout",
       "text": [
        "\n",
        "Creating horizons...\n",
        "Filling array..."
       ]
      },
      {
       "output_type": "stream",
       "stream": "stdout",
       "text": [
        "\n",
        "Adding horizon 1...\n",
        "Adding horizon 2..."
       ]
      },
      {
       "output_type": "stream",
       "stream": "stdout",
       "text": [
        "\n",
        "Adding randomness..."
       ]
      },
      {
       "output_type": "stream",
       "stream": "stdout",
       "text": [
        "\n",
        "Done."
       ]
      },
      {
       "output_type": "stream",
       "stream": "stdout",
       "text": [
        "\n",
        "<DistArray(shape=(256, 256, 1024), targets=[0, 1, 2, 3])>\n"
       ]
      }
     ],
     "prompt_number": 39
    }
   ],
   "metadata": {}
  }
 ]
}