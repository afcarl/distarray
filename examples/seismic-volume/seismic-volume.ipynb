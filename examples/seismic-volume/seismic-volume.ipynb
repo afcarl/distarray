{
 "metadata": {
  "name": "",
  "signature": "sha256:709dd1ee00cf0447e9719340c01277eb0e253c3dd6465f9340d7bed8a0169926"
 },
 "nbformat": 3,
 "nbformat_minor": 0,
 "worksheets": [
  {
   "cells": [
    {
     "cell_type": "markdown",
     "metadata": {},
     "source": [
      "DistArray example: A sample seismic volume."
     ]
    },
    {
     "cell_type": "markdown",
     "metadata": {},
     "source": [
      "Start a cluster\n",
      "---------------\n",
      "This example requires an `IPython.parallel` cluster to be running.\n",
      "Outside the notebook, run\n",
      "```\n",
      "dacluster start -n4\n",
      "```"
     ]
    },
    {
     "cell_type": "markdown",
     "metadata": {},
     "source": [
      "Preliminaries\n",
      "-------------\n",
      "We will start off by importing some things that we will use, and also enable inline matplotlib plotting."
     ]
    },
    {
     "cell_type": "code",
     "collapsed": false,
     "input": [
      "%matplotlib inline\n",
      "\n",
      "from distarray.dist import Context, Distribution\n",
      "from distarray.dist.distarray import DistArray\n",
      "\n",
      "from numpy import linspace, float32\n",
      "from matplotlib import pyplot"
     ],
     "language": "python",
     "metadata": {},
     "outputs": []
    },
    {
     "cell_type": "markdown",
     "metadata": {},
     "source": [
      "Create a volume\n",
      "---------------\n",
      "First we will create a distarray of the desired size for the seismic volume.\n",
      "To start, we will fill it with zeros. We need to specify a Context, as well as the array size, and how it will be distributed across the processes. We will use block distribution for the x and y axes, which will partition the x and y values across the various engines, and not distribute along the z axis, so that each trace, or z slice, will be on a single process."
     ]
    },
    {
     "cell_type": "code",
     "collapsed": false,
     "input": [
      "def create_empty_volume(context, dist, shape):\n",
      "    ''' Create an empty seismic volume. '''\n",
      "    if len(shape) != 3:\n",
      "        raise ValueError('Volume shape must be 3D.')\n",
      "    print('Creating volume array %d x %d x %d...' % (\n",
      "        shape[0], shape[1], shape[2]))\n",
      "    distribution = Distribution(context, shape, dist=dist)\n",
      "    da = context.zeros(distribution, dtype=float32)\n",
      "    return da\n",
      "\n",
      "# Create a distarray context.\n",
      "context = Context()\n",
      "\n",
      "# Dimensions of volume array.\n",
      "VOLUME_SHAPE = (256, 256, 1024)\n",
      "\n",
      "# Physical size of volume.\n",
      "VOLUME_SIZE = (10.0, 10.0, 20.0)\n",
      "\n",
      "# Array distribution for volume.\n",
      "VOLUME_DISTRIBUTION = ('b', 'b', 'n')\n",
      "\n",
      "seismic_volume = create_empty_volume(context, VOLUME_DISTRIBUTION, VOLUME_SHAPE)\n",
      "print seismic_volume"
     ],
     "language": "python",
     "metadata": {},
     "outputs": []
    },
    {
     "cell_type": "markdown",
     "metadata": {},
     "source": [
      "Creating horizons\n",
      "-----------------\n",
      "Now we will want to fill the volume with some interesting data, which we will then process. To make this similar to a real seismic volume, we will construct this in terms of 'horizons', which are 2D surfaces inside the volume. The data values in the volume will change as we pass down through the horizons. To make it simple, we will use plane surfaces as the horizons here. We will also attach some parameters to the horizons which will control how the seismic data changes as we pass through the horizons. Our horizons will use the x and y dimensions and distribution of the full 3D array.\n",
      "\n",
      "To properly calculate the depth at each point, we need the physical x and y coordinates of the array element. These are passed into the outer function, and for each local calculation, we extract the values corresponding to each local array."
     ]
    },
    {
     "cell_type": "code",
     "collapsed": false,
     "input": [
      "def local_create_horizon(horizon_la, physical_x, physical_y, normal, D):\n",
      "    '''Get the horizon surface, which is a plane. '''\n",
      "\n",
      "    def plane(x, y, normal, D):\n",
      "        '''Get the depth on the plane at the x and y coordinates.'''\n",
      "        from math import sqrt\n",
      "        nx, ny, nz = normal\n",
      "        nmag = sqrt(nx * nx + ny * ny + nz * nz)\n",
      "        nx, ny, nz = nx / nmag, ny / nmag, nz / nmag\n",
      "        z0 = (D - nx * x - ny * y) / nz\n",
      "        return z0\n",
      "\n",
      "    def create_horizon(horizon, physical_xy, normal, D):\n",
      "        ''' Create the horizon plane. '''\n",
      "        shape = horizon.shape\n",
      "        if len(shape) != 2:\n",
      "            raise ValueError('Horizon shape must be 2D.')\n",
      "        for i in xrange(shape[0]):\n",
      "            for j in xrange(shape[1]):\n",
      "                x = physical_xy[i, j, 0]\n",
      "                y = physical_xy[i, j, 1]\n",
      "                horizon[i, j] = plane(x, y, normal, D)\n",
      "\n",
      "    from distarray.local import LocalArray\n",
      "    horizon = horizon_la.ndarray\n",
      "    shape = horizon.shape\n",
      "    # Get physical x and y values in an array the same shape as the horizon.\n",
      "    physical_xy = numpy.empty((shape[0], shape[1], 2))\n",
      "    for i in xrange(shape[0]):\n",
      "        for j in xrange(shape[1]):\n",
      "            gi, gj = horizon_la.global_from_local((i, j))\n",
      "            physical_xy[i, j, 0] = physical_x[gi]\n",
      "            physical_xy[i, j, 1] = physical_y[gj]\n",
      "    create_horizon(horizon, physical_xy, normal, D)\n",
      "    res = LocalArray(horizon_la.distribution, buf=horizon)\n",
      "    rtn = proxyize(res)\n",
      "    return rtn\n",
      "\n",
      "def create_distarray_horizon(context, shape, physical_x, physical_y, normal, D):\n",
      "    ''' Create a horizon as a 2D distarray. '''\n",
      "    horizon_dist = (VOLUME_DISTRIBUTION[0], VOLUME_DISTRIBUTION[1])\n",
      "    distribution = Distribution(context, shape, dist=horizon_dist)\n",
      "    horizon = DistArray(distribution, dtype=float32)\n",
      "    context.apply(local_create_horizon,\n",
      "                  (horizon.key, physical_x, physical_y, normal, D))\n",
      "    return horizon\n",
      "\n",
      "def create_horizons(volume, physical_x, physical_y):\n",
      "    '''Create some horizons appropriate for the seismic volume.\n",
      "\n",
      "    We describe the plane surface with a normal and a constant,\n",
      "    and also provide some parameters to use later. '''\n",
      "    context = volume.context\n",
      "    shape = (volume.shape[0], volume.shape[1])\n",
      "    normal_1, D_1, params_1 = (\n",
      "        (0.1, -0.2, 1.0), 10.0, (100.0, 40.0, 1.25, 0.1))\n",
      "    normal_2, D_2, params_2 = (\n",
      "        (0.4, 0.1, 1.0), 15.0, (25.0, 15.0, 1.25, 0.7))\n",
      "    horizon_1 = create_distarray_horizon(context, shape,\n",
      "                                         physical_x, physical_y,\n",
      "                                         normal_1, D_1)\n",
      "    horizon_2 = create_distarray_horizon(context, shape,\n",
      "                                         physical_x, physical_y,\n",
      "                                         normal_2, D_2)\n",
      "    rtn = [(horizon_1, params_1), (horizon_2, params_2)]\n",
      "    return rtn"
     ],
     "language": "python",
     "metadata": {},
     "outputs": []
    },
    {
     "cell_type": "code",
     "collapsed": false,
     "input": [
      "# Creation of the full volume.\n",
      "# We adjust the data values as we pass through the horizons.\n",
      "\n",
      "def local_add_horizon(volume_la, horizon_la, z, horizon_params):\n",
      "    ''' Update the volume to change as one passes through the horizon. '''\n",
      "\n",
      "    def gauss(z, z0, A=100.0, B=40.0, C=2.5, mu=0.1):\n",
      "        ''' A hopefully interesting looking function.\n",
      "\n",
      "        Gaussian, with a step-like function past the gaussian peak.\n",
      "        The peak is at depth z=z0.\n",
      "        '''\n",
      "        from numpy import exp, tanh\n",
      "        u = mu * (z - z0) ** 2\n",
      "        v = mu * (z - z0)\n",
      "        # Combine Gaussian, hyperbolic tangent, and constant.\n",
      "        # The hyperbolic tangent serves as a smooth step.\n",
      "        r = A * exp(-u) + B * tanh(v) + C\n",
      "        return r\n",
      "\n",
      "    def add_horizon(vol, hor, z, horizon_params):\n",
      "        ''' Add the effect of a horizon to the seismic volume data. '''\n",
      "        shape = hor.shape\n",
      "        A, B, C, mu = horizon_params\n",
      "        for i in xrange(shape[0]):\n",
      "            for j in xrange(shape[1]):\n",
      "                z0 = hor[i, j]\n",
      "                vol[i, j, :] += gauss(z, z0, A=A, B=B, C=C, mu=mu)\n",
      "        return vol\n",
      "\n",
      "    vol = volume_la.ndarray\n",
      "    hor = horizon_la.ndarray\n",
      "    add_horizon(vol, hor, z, horizon_params)\n",
      "    return volume_la\n",
      "\n",
      "\n",
      "def local_add_random(volume_la):\n",
      "    ''' Add randomness to the local array data. '''\n",
      "\n",
      "    def add_random(vol, R):\n",
      "        ''' Add randomness to the volume. '''\n",
      "        shape = vol.shape\n",
      "        rnd = numpy.random.randn(*shape)\n",
      "        vol[:, :, :] += R * rnd\n",
      "\n",
      "    vol = volume_la.ndarray\n",
      "    add_random(vol, R=2.0)\n",
      "    return volume_la"
     ],
     "language": "python",
     "metadata": {},
     "outputs": []
    },
    {
     "cell_type": "code",
     "collapsed": false,
     "input": [
      "def fill_volume(volume):\n",
      "    ''' Fill the seismic volume with some interesting structure. '''\n",
      "    context = volume.context\n",
      "    shape = volume.shape\n",
      "    if len(shape) != 3:\n",
      "        raise ValueError('Volume shape must be 3D.')\n",
      "    print('Physical coords...')\n",
      "    x = linspace(0.0, VOLUME_SIZE[0], shape[0])\n",
      "    y = linspace(0.0, VOLUME_SIZE[1], shape[1])\n",
      "    z = linspace(0.0, VOLUME_SIZE[2], shape[2])\n",
      "    print('Creating horizons...')\n",
      "    #horizons_shape = (shape[0], shape[1])\n",
      "    horizons = create_horizons(volume, x, y)\n",
      "    print('Filling array...')\n",
      "    # Add data for each horizon...\n",
      "    for ih, horizon in enumerate(horizons):\n",
      "        print('Adding horizon %d...' % (ih + 1))\n",
      "        horizon_da, horizon_params = horizon\n",
      "        context.apply(local_add_horizon,\n",
      "                      (volume.key, horizon_da.key, z, horizon_params))\n",
      "    # Add global randomness.\n",
      "    print('Adding randomness...')\n",
      "    context.apply(local_add_random, (volume.key,))\n",
      "    print('Done.')"
     ],
     "language": "python",
     "metadata": {},
     "outputs": []
    },
    {
     "cell_type": "code",
     "collapsed": false,
     "input": [
      "#vol = create_volume(context, VOLUME_SHAPE)\n",
      "fill_volume(seismic_volume)\n",
      "print seismic_volume"
     ],
     "language": "python",
     "metadata": {},
     "outputs": []
    },
    {
     "cell_type": "code",
     "collapsed": false,
     "input": [
      "def plot_ndarray(ndarray, title, x_label, y_label):\n",
      "    ''' Plot a 2D NumPy array. '''\n",
      "    num_dim = len(ndarray.shape)\n",
      "    if (num_dim != 2):\n",
      "        raise ValueError('Array must be 2D for plotting.')\n",
      "    # Plot.\n",
      "    cmap = 'RdBu'\n",
      "    pyplot.matshow(ndarray, cmap=cmap)\n",
      "    pyplot.title(title)\n",
      "    pyplot.xlabel(x_label)\n",
      "    pyplot.ylabel(y_label)\n",
      "    pyplot.colorbar()\n",
      "    pyplot.show()\n",
      "    \n",
      "def plot_distarray(distarray, title, x_label, y_label, transpose=True):\n",
      "    ''' Plot a 2D DistArray. '''\n",
      "    # Convert to ndarray for plotting.\n",
      "    ndarray = distarray.toarray()\n",
      "    # Transpose to make depth look like depth.\n",
      "    if transpose:\n",
      "        ndarray = ndarray.transpose()\n",
      "    plot_ndarray(ndarray, title, x_label, y_label)    "
     ],
     "language": "python",
     "metadata": {},
     "outputs": []
    },
    {
     "cell_type": "code",
     "collapsed": false,
     "input": [
      "shape = seismic_volume.shape\n",
      "# Choose (arbitrary) indices for slicing.\n",
      "i_index = shape[0] // 4\n",
      "j_index = (2 * shape[1]) // 3\n",
      "k_index = shape[2] // 2\n",
      "# Slice and visualize result.\n",
      "print('Taking I-Slice...')\n",
      "i_slice = seismic_volume[i_index, :, :]\n",
      "title = 'Vertical Slice [i = %d]' % (i_index)\n",
      "plot_distarray(i_slice, title, 'j', 'depth')"
     ],
     "language": "python",
     "metadata": {},
     "outputs": []
    },
    {
     "cell_type": "code",
     "collapsed": false,
     "input": [
      "print('Taking J-Slice...')\n",
      "title = 'Vertical Slice [j = %d]' % (j_index)\n",
      "j_slice = seismic_volume[:, j_index, :]\n",
      "plot_distarray(j_slice, title, 'i', 'depth')"
     ],
     "language": "python",
     "metadata": {},
     "outputs": []
    },
    {
     "cell_type": "code",
     "collapsed": false,
     "input": [
      "print('Taking K-Slice...')\n",
      "title = 'Horizontal Slice [k = %d]' % (k_index)\n",
      "k_slice = seismic_volume[:, :, k_index]\n",
      "plot_distarray(k_slice, title, 'i', 'j')"
     ],
     "language": "python",
     "metadata": {},
     "outputs": []
    },
    {
     "cell_type": "markdown",
     "metadata": {},
     "source": [
      "Now lets perform some operations on the data volume."
     ]
    },
    {
     "cell_type": "code",
     "collapsed": false,
     "input": [
      "trace_min = seismic_volume.min(axis=2)\n",
      "trace_max = seismic_volume.max(axis=2)\n",
      "trace_mean = seismic_volume.mean(axis=2)\n",
      "trace_var = seismic_volume.var(axis=2)\n",
      "trace_std = seismic_volume.std(axis=2)\n",
      "# Collect into dict.\n",
      "distarray_stats = {\n",
      "    'min': trace_min,\n",
      "    'max': trace_max,\n",
      "    'mean': trace_mean,\n",
      "    'var': trace_var,\n",
      "    'std': trace_std,\n",
      "}\n",
      "print distarray_stats"
     ],
     "language": "python",
     "metadata": {},
     "outputs": []
    },
    {
     "cell_type": "code",
     "collapsed": false,
     "input": [
      "plot_distarray(trace_min, 'Trace Min', 'i', 'j', False)\n",
      "plot_distarray(trace_max, 'Trace Max', 'i', 'j', False)\n",
      "plot_distarray(trace_mean, 'Trace Mean', 'i', 'j', False)\n",
      "plot_distarray(trace_var, 'Trace Variance', 'i', 'j', False)\n",
      "plot_distarray(trace_std, 'Trace Std Dev', 'i', 'j', False)"
     ],
     "language": "python",
     "metadata": {},
     "outputs": []
    },
    {
     "cell_type": "code",
     "collapsed": false,
     "input": [
      "def local_filter_avg3(la):\n",
      "    ''' Filter a local array via 3-point average over z axis. '''\n",
      "\n",
      "    def filter_avg3(a):\n",
      "        ''' Filter a local array via 3-point average over z axis.\n",
      "        A 2-point average is used at the ends. '''\n",
      "        from numpy import empty_like\n",
      "        b = empty_like(a)\n",
      "        b[:, :, 0] = (a[:, :, 0] + a[:, :, 1]) / 2.0\n",
      "        b[:, :, 1:-1] = (a[:, :, :-2] + a[:, :, 1:-1] + a[:, :, 2:]) / 3.0\n",
      "        b[:, :, -1] = (a[:, :, -2] + a[:, :, -1]) / 2.0\n",
      "        return b\n",
      "\n",
      "    from distarray.local import LocalArray\n",
      "    a = la.ndarray\n",
      "    b = filter_avg3(a)\n",
      "    res = LocalArray(la.distribution, buf=b)\n",
      "    rtn = proxyize(res)\n",
      "    return rtn"
     ],
     "language": "python",
     "metadata": {},
     "outputs": []
    },
    {
     "cell_type": "code",
     "collapsed": false,
     "input": [
      "context = seismic_volume.context\n",
      "filtered_key = context.apply(local_filter_avg3, (seismic_volume.key,))\n",
      "filtered_vol = DistArray.from_localarrays(filtered_key[0], context=context)\n",
      "print filtered_vol"
     ],
     "language": "python",
     "metadata": {},
     "outputs": []
    },
    {
     "cell_type": "code",
     "collapsed": false,
     "input": [
      "print('Taking I-Slice...')\n",
      "i_slice = filtered_vol[i_index, :, :]\n",
      "title = 'Filtered Vertical Slice [i = %d]' % (i_index)\n",
      "plot_distarray(i_slice, title, 'j', 'depth')"
     ],
     "language": "python",
     "metadata": {},
     "outputs": []
    }
   ],
   "metadata": {}
  }
 ]
}