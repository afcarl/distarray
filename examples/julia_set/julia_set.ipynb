{
 "metadata": {
  "name": "",
  "signature": "sha256:f0d70ceaf4ea371ba73a69931115e9f079d2192cb40994924d681f9dbabe0527"
 },
 "nbformat": 3,
 "nbformat_minor": 0,
 "worksheets": [
  {
   "cells": [
    {
     "cell_type": "markdown",
     "metadata": {},
     "source": [
      "DistArray Julia Set\n",
      "===================\n",
      "\n",
      "The Julia set, for a given complex number $c$, is the set of points $z$\n",
      "such that the repeated iteration $z = z^2 + c$ never escapes to infinity.\n",
      "\n",
      "This can be plotted by counting how many iterations are required for the\n",
      "magnitude of $z$ to exceed a cutoff. (For example, if $abs(z) > 2$, then it\n",
      "it certain that the point will go off to infinity.)\n",
      "\n",
      "Depending on the value of $c$, the Julia set may be connected and contain\n",
      "a lot of points, or it could be disconnected and contain fewer points.\n",
      "The points in the set will require the maximum iteration count, so\n",
      "the connected sets will usually take longer to compute."
     ]
    },
    {
     "cell_type": "markdown",
     "metadata": {},
     "source": [
      "First, some imports."
     ]
    },
    {
     "cell_type": "code",
     "collapsed": false,
     "input": [
      "from __future__ import print_function\n",
      "\n",
      "import numpy\n",
      "import matplotlib.pyplot as plt\n",
      "\n",
      "# DistArray imports\n",
      "from distarray.globalapi import Context, Distribution\n",
      "from distarray.globalapi.distarray import DistArray\n",
      "\n",
      "# bigger figures\n",
      "plt.rcParams.update({'figure.figsize': (10, 10)})\n",
      "\n",
      "# inline plots\n",
      "%matplotlib inline"
     ],
     "language": "python",
     "metadata": {},
     "outputs": [],
     "prompt_number": 1
    },
    {
     "cell_type": "markdown",
     "metadata": {},
     "source": [
      "Julia set kernels\n",
      "-----------------\n",
      "To avoid round-trips between the client and engines, our strategy will be to push a function to each engine to compute that engine's local section of the Julia set.  Here we have two options for this \"kernel\": a version that avoids NumPy fancy indexing, and one that uses it."
     ]
    },
    {
     "cell_type": "code",
     "collapsed": false,
     "input": [
      "def numpy_julia_calc(z, c, z_max, n_max):\n",
      "    \"\"\"Calculate the Julia set using NumPy.\n",
      "\n",
      "    Parameters\n",
      "    ----------\n",
      "    z : NumPy array\n",
      "        array of complex values whose iterations we will count.\n",
      "    c : complex\n",
      "        Complex number to add at each iteration.\n",
      "    z_max : float\n",
      "        Magnitude of complex value that we assume goes to infinity.\n",
      "    n_max : int\n",
      "        Maximum number of iterations.\n",
      "    \"\"\"\n",
      "    z = numpy.asarray(z)\n",
      "    counts = numpy.zeros_like(z, dtype=numpy.int32)\n",
      "    hits = numpy.zeros_like(z, dtype=numpy.bool)\n",
      "    mask = numpy.zeros_like(z, dtype=numpy.bool)\n",
      "    n = 0\n",
      "\n",
      "    while not numpy.all(hits) and n < n_max:\n",
      "        z = z * z + c\n",
      "        mask = (abs(z) > z_max) & (~hits)\n",
      "        counts[mask] = n\n",
      "        hits |= mask\n",
      "        z[hits] = 0\n",
      "        n += 1\n",
      "    counts[~hits] = n_max\n",
      "    return counts\n",
      "\n",
      "\n",
      "def fancy_numpy_julia_calc(z, c, z_max, n_max):\n",
      "    \"\"\"Calculate the Julia set using NumPy fancy indexing.\n",
      "\n",
      "    Parameters\n",
      "    ----------\n",
      "    z : NumPy array\n",
      "        array of complex values whose iterations we will count.\n",
      "    c : complex\n",
      "        Complex number to add at each iteration.\n",
      "    z_max : float\n",
      "        Magnitude of complex value that we assume goes to infinity.\n",
      "    n_max : int\n",
      "        Maximum number of iterations.\n",
      "    \"\"\"\n",
      "    z = numpy.asarray(z)\n",
      "    counts = numpy.zeros_like(z, dtype=numpy.int32)\n",
      "    hits = numpy.zeros_like(z, dtype=numpy.bool)\n",
      "    mask = numpy.zeros_like(z, dtype=numpy.bool)\n",
      "    n = 0\n",
      "\n",
      "    while not numpy.all(hits) and n < n_max:\n",
      "        z[~hits] = z[~hits] * z[~hits] + c\n",
      "        mask = (abs(z) > z_max) & (~hits)\n",
      "        counts[mask] = n\n",
      "        hits |= mask\n",
      "        n += 1\n",
      "    counts[~hits] = n_max\n",
      "    return counts"
     ],
     "language": "python",
     "metadata": {},
     "outputs": [],
     "prompt_number": 2
    },
    {
     "cell_type": "markdown",
     "metadata": {},
     "source": [
      "Coordinating functions\n",
      "----------------------\n",
      "Here we have functions that create a DistArray representing the complex plane and functions that coordinate applying the kernel on each distributed section of the DistArray."
     ]
    },
    {
     "cell_type": "code",
     "collapsed": false,
     "input": [
      "def create_complex_plane(context, resolution, dist, re_ax, im_ax):\n",
      "    \"\"\"Create a DistArray containing points on the complex plane.\n",
      "\n",
      "    Parameters\n",
      "    ----------\n",
      "    context : DistArray Context\n",
      "    resolution : 2-tuple\n",
      "        The number of points along Re and Im axes.\n",
      "    dist : 2-element sequence or dict\n",
      "        dist_type for of the DistArray Distribution.\n",
      "    re_ax : 2-tuple\n",
      "        The (lower, upper) range of the Real axis.\n",
      "    im_ax : 2-tuple\n",
      "        The (lower, upper) range of the Imaginary axis.\n",
      "    \"\"\"\n",
      "\n",
      "    import numpy as np\n",
      "\n",
      "    def fill_complex_plane(arr, re_ax, im_ax, resolution):\n",
      "        \"\"\"Fill in points on the complex coordinate plane.\"\"\"\n",
      "        re_step = float(re_ax[1] - re_ax[0]) / resolution[0]\n",
      "        im_step = float(im_ax[1] - im_ax[0]) / resolution[1]\n",
      "        for i in arr.distribution[0].global_iter:\n",
      "            for j in arr.distribution[1].global_iter:\n",
      "                arr.global_index[i, j] = complex(re_ax[0] + re_step * i,\n",
      "                                                 im_ax[0] + im_step * j)\n",
      "\n",
      "    # Create an empty distributed array.\n",
      "    distribution = Distribution(context, (resolution[0], resolution[1]),\n",
      "                                dist=dist)\n",
      "    complex_plane = context.empty(distribution, dtype=np.complex64)\n",
      "    context.apply(fill_complex_plane,\n",
      "                  (complex_plane.key, re_ax, im_ax, resolution))\n",
      "    return complex_plane"
     ],
     "language": "python",
     "metadata": {},
     "outputs": [],
     "prompt_number": 3
    },
    {
     "cell_type": "code",
     "collapsed": false,
     "input": [
      "def local_julia_calc(la, c, z_max, n_max, kernel):\n",
      "    \"\"\"Calculate the number of iterations for the point to escape.\n",
      "\n",
      "    Parameters\n",
      "    ----------\n",
      "    la : LocalArray\n",
      "        LocalArray of complex values whose iterations we will count.\n",
      "    c : complex\n",
      "        Complex number to add at each iteration.\n",
      "    z_max : float\n",
      "        Magnitude of complex value that we assume goes to infinity.\n",
      "    n_max : int\n",
      "        Maximum number of iterations.\n",
      "    kernel : function\n",
      "        Kernel to use for computation of the Julia set.  Options are 'fancy',\n",
      "        'numpy', or 'cython'.\n",
      "    \"\"\"\n",
      "    from distarray.localapi import LocalArray\n",
      "    counts = kernel(la, c, z_max, n_max)\n",
      "    res = LocalArray(la.distribution, buf=counts)\n",
      "    return proxyize(res)  # noqa\n",
      "\n",
      "\n",
      "def distributed_julia_calc(distarray, c, z_max, n_max,\n",
      "                           kernel=fancy_numpy_julia_calc):\n",
      "    \"\"\"Calculate the Julia set for an array of points in the complex plane.\n",
      "\n",
      "    Parameters\n",
      "    ----------\n",
      "    distarray : DistArray\n",
      "        DistArray of complex values whose iterations we will count.\n",
      "    c : complex\n",
      "        Complex number to add at each iteration.\n",
      "    z_max : float\n",
      "        Magnitude of complex value that we assume goes to infinity.\n",
      "    n_max : int\n",
      "        Maximum number of iterations.\n",
      "    kernel: function\n",
      "        Kernel to use for computation of the Julia set.  Options are 'fancy',\n",
      "        'numpy', or 'cython'.\n",
      "    \"\"\"\n",
      "    context = distarray.context\n",
      "    iters_key = context.apply(local_julia_calc,\n",
      "                              (distarray.key, c, z_max, n_max),\n",
      "                              {'kernel': kernel})\n",
      "    iters_da = DistArray.from_localarrays(iters_key[0], context=context,\n",
      "                                          dtype=numpy.int32)\n",
      "    return iters_da"
     ],
     "language": "python",
     "metadata": {},
     "outputs": [],
     "prompt_number": 4
    },
    {
     "cell_type": "markdown",
     "metadata": {},
     "source": [
      "Using DistArray to explore the Julia set\n",
      "----------------------------------------"
     ]
    },
    {
     "cell_type": "code",
     "collapsed": false,
     "input": [
      "context = Context()  # handles communicating with the engines"
     ],
     "language": "python",
     "metadata": {},
     "outputs": [],
     "prompt_number": 5
    },
    {
     "cell_type": "code",
     "collapsed": false,
     "input": [
      "# create the complex plane\n",
      "resolution = (512, 512)\n",
      "dist = 'cc'  # different distributions of the data among the engines\n",
      "             # one character per dimension\n",
      "             # 'c' stands for 'cyclic', 'b' for block\n",
      "re_ax = (-1.5, 1.5)\n",
      "im_ax = (-1.5, 1.5)\n",
      "complex_plane = create_complex_plane(context, resolution, dist, re_ax, im_ax)\n",
      "\n",
      "# calculate the Julia set\n",
      "z_max = 2.0\n",
      "n_max = 100\n",
      "c = complex(0.285, 0.01)\n",
      "iters_da = distributed_julia_calc(complex_plane, c, z_max, n_max, kernel=numpy_julia_calc)\n",
      "\n",
      "# plot it!\n",
      "plt.matshow(iters_da.toarray(), cmap='hot')"
     ],
     "language": "python",
     "metadata": {},
     "outputs": [
      {
       "metadata": {},
       "output_type": "pyout",
       "prompt_number": 6,
       "text": [
        "<matplotlib.image.AxesImage at 0x107dd0f10>"
       ]
      },
      {
       "metadata": {},
       "output_type": "display_data",
       "png": "[encoded data removed]",
       "text": [
        "<matplotlib.figure.Figure at 0x107daa5d0>"
       ]
      }
     ],
     "prompt_number": 6
    },
    {
     "cell_type": "code",
     "collapsed": false,
     "input": [
      "context.close()"
     ],
     "language": "python",
     "metadata": {},
     "outputs": [],
     "prompt_number": 7
    }
   ],
   "metadata": {}
  }
 ]
}