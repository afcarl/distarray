{
 "metadata": {
  "name": "",
  "signature": "sha256:fac56fd6ead7fe7aac8bc69a6867d501b34b6a513569ef9b23b412104bfdbef3"
 },
 "nbformat": 3,
 "nbformat_minor": 0,
 "worksheets": [
  {
   "cells": [
    {
     "cell_type": "markdown",
     "metadata": {
      "slideshow": {
       "slide_type": "slide"
      }
     },
     "source": [
      "DistArray: Distributed Arrays for Python\n",
      "========================================\n",
      "\n",
      "[github.com/enthought/distarray](https://github.com/enthought/distarray)"
     ]
    },
    {
     "cell_type": "markdown",
     "metadata": {
      "slideshow": {
       "slide_type": "subslide"
      }
     },
     "source": [
      "Start a cluster\n",
      "---------------\n",
      "These examples require an `IPython.parallel` cluster to be running.\n",
      "Outside the notebook, run\n",
      "```\n",
      "dacluster start -n4\n",
      "```"
     ]
    },
    {
     "cell_type": "code",
     "collapsed": false,
     "input": [
      "# some utility imports\n",
      "from __future__ import print_function\n",
      "from pprint import pprint\n",
      "from matplotlib import pyplot as plt\n",
      "\n",
      "# main imports\n",
      "import numpy\n",
      "import distarray\n",
      "\n",
      "# reduce precision on printed array values\n",
      "numpy.set_printoptions(precision=2)\n",
      "\n",
      "# display figures inline\n",
      "%matplotlib inline"
     ],
     "language": "python",
     "metadata": {
      "slideshow": {
       "slide_type": "slide"
      }
     },
     "outputs": [],
     "prompt_number": 1
    },
    {
     "cell_type": "markdown",
     "metadata": {
      "slideshow": {
       "slide_type": "slide"
      }
     },
     "source": [
      "NumPy Arrays\n",
      "------------"
     ]
    },
    {
     "cell_type": "markdown",
     "metadata": {},
     "source": [
      "DistArray is heavily inspired by NumPy."
     ]
    },
    {
     "cell_type": "code",
     "collapsed": false,
     "input": [
      "nparr = numpy.random.random((4, 5))\n",
      "nparr"
     ],
     "language": "python",
     "metadata": {
      "slideshow": {
       "slide_type": "subslide"
      }
     },
     "outputs": [
      {
       "metadata": {},
       "output_type": "pyout",
       "prompt_number": 2,
       "text": [
        "array([[ 0.24,  0.96,  0.51,  0.02,  0.04],\n",
        "       [ 0.29,  0.52,  0.67,  0.65,  1.  ],\n",
        "       [ 0.56,  0.54,  0.51,  0.26,  0.85],\n",
        "       [ 0.43,  0.17,  0.2 ,  0.58,  0.91]])"
       ]
      }
     ],
     "prompt_number": 2
    },
    {
     "cell_type": "code",
     "collapsed": false,
     "input": [
      "# NumPy array attributes\n",
      "print(\"type:\", type(nparr))\n",
      "print(\"dtype:\", nparr.dtype)\n",
      "print(\"ndim:\", nparr.ndim)\n",
      "print(\"shape:\", nparr.shape)\n",
      "print(\"itemsize:\", nparr.itemsize)\n",
      "print(\"nbytes:\", nparr.nbytes)"
     ],
     "language": "python",
     "metadata": {
      "slideshow": {
       "slide_type": "subslide"
      }
     },
     "outputs": [
      {
       "output_type": "stream",
       "stream": "stdout",
       "text": [
        "type: <type 'numpy.ndarray'>\n",
        "dtype: float64\n",
        "ndim: 2\n",
        "shape: (4, 5)\n",
        "itemsize: 8\n",
        "nbytes: 160\n"
       ]
      }
     ],
     "prompt_number": 3
    },
    {
     "cell_type": "markdown",
     "metadata": {
      "slideshow": {
       "slide_type": "slide"
      }
     },
     "source": [
      "DistArrays\n",
      "----------"
     ]
    },
    {
     "cell_type": "code",
     "collapsed": false,
     "input": [
      "from distarray.globalapi import Context\n",
      "context = Context()\n",
      "darr = context.fromarray(nparr)\n",
      "darr"
     ],
     "language": "python",
     "metadata": {
      "slideshow": {
       "slide_type": "subslide"
      }
     },
     "outputs": [
      {
       "output_type": "stream",
       "stream": "stderr",
       "text": [
        "/Users/ksmith/Devel/virt-py64/lib/python2.7/site-packages/IPython/parallel/client/client.py:446: RuntimeWarning: \n",
        "            Controller appears to be listening on localhost, but not on this machine.\n",
        "            If this is true, you should specify Client(...,sshserver='you@10.7.0.10')\n",
        "            or instruct your controller to listen on an external IP.\n",
        "  RuntimeWarning)\n"
       ]
      },
      {
       "metadata": {},
       "output_type": "pyout",
       "prompt_number": 4,
       "text": [
        "<DistArray(shape=(4, 5), targets=[0, 1, 2, 3])>"
       ]
      }
     ],
     "prompt_number": 4
    },
    {
     "cell_type": "code",
     "collapsed": false,
     "input": [
      "# parts of the array are stored on each engine\n",
      "for i, a in enumerate(darr.get_localarrays()):\n",
      "    print(i, a)"
     ],
     "language": "python",
     "metadata": {
      "slideshow": {
       "slide_type": "subslide"
      }
     },
     "outputs": [
      {
       "output_type": "stream",
       "stream": "stdout",
       "text": [
        "0 [[ 0.24  0.96  0.51  0.02  0.04]]\n",
        "1 [[ 0.29  0.52  0.67  0.65  1.  ]]\n",
        "2 [[ 0.56  0.54  0.51  0.26  0.85]]\n",
        "3 [[ 0.43  0.17  0.2   0.58  0.91]]\n"
       ]
      }
     ],
     "prompt_number": 5
    },
    {
     "cell_type": "code",
     "collapsed": false,
     "input": [
      "# DistArray attributes\n",
      "print(\"type:\", type(darr))\n",
      "print(\"dtype:\", darr.dtype)\n",
      "print(\"ndim:\", darr.ndim)\n",
      "print(\"shape:\", darr.shape)\n",
      "print(\"itemsize:\", darr.itemsize)\n",
      "print(\"nbytes:\", darr.nbytes)"
     ],
     "language": "python",
     "metadata": {
      "slideshow": {
       "slide_type": "subslide"
      }
     },
     "outputs": [
      {
       "output_type": "stream",
       "stream": "stdout",
       "text": [
        "type: <class 'distarray.globalapi.distarray.DistArray'>\n",
        "dtype: float64\n",
        "ndim: 2\n",
        "shape: (4, 5)\n",
        "itemsize: 8\n",
        "nbytes: 160\n"
       ]
      }
     ],
     "prompt_number": 6
    },
    {
     "cell_type": "code",
     "collapsed": false,
     "input": [
      "# with some extra...\n",
      "print(\"targets:\", darr.targets)\n",
      "print(\"context:\", darr.context)\n",
      "print(\"distribution:\", darr.distribution)"
     ],
     "language": "python",
     "metadata": {
      "slideshow": {
       "slide_type": "subslide"
      }
     },
     "outputs": [
      {
       "output_type": "stream",
       "stream": "stdout",
       "text": [
        "targets: [0, 1, 2, 3]\n",
        "context: <distarray.globalapi.context.IPythonContext object at 0x107fa6e10>\n",
        "distribution: <distarray.globalapi.maps.Distribution object at 0x10855dc90>\n"
       ]
      }
     ],
     "prompt_number": 7
    },
    {
     "cell_type": "markdown",
     "metadata": {
      "slideshow": {
       "slide_type": "slide"
      }
     },
     "source": [
      "Universal Functions (ufuncs)\n",
      "----------------------------"
     ]
    },
    {
     "cell_type": "code",
     "collapsed": false,
     "input": [
      "# NumPy\n",
      "numpy.sin(nparr)"
     ],
     "language": "python",
     "metadata": {
      "slideshow": {
       "slide_type": "subslide"
      }
     },
     "outputs": [
      {
       "metadata": {},
       "output_type": "pyout",
       "prompt_number": 8,
       "text": [
        "array([[ 0.24,  0.82,  0.49,  0.02,  0.04],\n",
        "       [ 0.29,  0.5 ,  0.62,  0.6 ,  0.84],\n",
        "       [ 0.53,  0.52,  0.49,  0.26,  0.75],\n",
        "       [ 0.42,  0.17,  0.2 ,  0.55,  0.79]])"
       ]
      }
     ],
     "prompt_number": 8
    },
    {
     "cell_type": "code",
     "collapsed": false,
     "input": [
      "# DistArray\n",
      "import distarray.globalapi as da\n",
      "da.sin(darr)"
     ],
     "language": "python",
     "metadata": {
      "slideshow": {
       "slide_type": "subslide"
      }
     },
     "outputs": [
      {
       "metadata": {},
       "output_type": "pyout",
       "prompt_number": 9,
       "text": [
        "<DistArray(shape=(4, 5), targets=[0, 1, 2, 3])>"
       ]
      }
     ],
     "prompt_number": 9
    },
    {
     "cell_type": "code",
     "collapsed": false,
     "input": [
      "da.sin(darr).toarray()"
     ],
     "language": "python",
     "metadata": {
      "slideshow": {
       "slide_type": "subslide"
      }
     },
     "outputs": [
      {
       "metadata": {},
       "output_type": "pyout",
       "prompt_number": 10,
       "text": [
        "array([[ 0.24,  0.82,  0.49,  0.02,  0.04],\n",
        "       [ 0.29,  0.5 ,  0.62,  0.6 ,  0.84],\n",
        "       [ 0.53,  0.52,  0.49,  0.26,  0.75],\n",
        "       [ 0.42,  0.17,  0.2 ,  0.55,  0.79]])"
       ]
      }
     ],
     "prompt_number": 10
    },
    {
     "cell_type": "code",
     "collapsed": false,
     "input": [
      "# NumPy\n",
      "nparr + nparr"
     ],
     "language": "python",
     "metadata": {
      "slideshow": {
       "slide_type": "subslide"
      }
     },
     "outputs": [
      {
       "metadata": {},
       "output_type": "pyout",
       "prompt_number": 11,
       "text": [
        "array([[ 0.49,  1.93,  1.02,  0.04,  0.09],\n",
        "       [ 0.58,  1.04,  1.33,  1.29,  1.99],\n",
        "       [ 1.11,  1.09,  1.02,  0.52,  1.71],\n",
        "       [ 0.86,  0.34,  0.4 ,  1.15,  1.82]])"
       ]
      }
     ],
     "prompt_number": 11
    },
    {
     "cell_type": "code",
     "collapsed": false,
     "input": [
      "# DistArray\n",
      "darr + darr"
     ],
     "language": "python",
     "metadata": {
      "slideshow": {
       "slide_type": "subslide"
      }
     },
     "outputs": [
      {
       "metadata": {},
       "output_type": "pyout",
       "prompt_number": 12,
       "text": [
        "<DistArray(shape=(4, 5), targets=[0, 1, 2, 3])>"
       ]
      }
     ],
     "prompt_number": 12
    },
    {
     "cell_type": "code",
     "collapsed": false,
     "input": [
      "(darr + darr).toarray()"
     ],
     "language": "python",
     "metadata": {
      "slideshow": {
       "slide_type": "subslide"
      }
     },
     "outputs": [
      {
       "metadata": {},
       "output_type": "pyout",
       "prompt_number": 13,
       "text": [
        "array([[ 0.49,  1.93,  1.02,  0.04,  0.09],\n",
        "       [ 0.58,  1.04,  1.33,  1.29,  1.99],\n",
        "       [ 1.11,  1.09,  1.02,  0.52,  1.71],\n",
        "       [ 0.86,  0.34,  0.4 ,  1.15,  1.82]])"
       ]
      }
     ],
     "prompt_number": 13
    },
    {
     "cell_type": "markdown",
     "metadata": {
      "slideshow": {
       "slide_type": "slide"
      }
     },
     "source": [
      "Distributions\n",
      "-------------"
     ]
    },
    {
     "cell_type": "code",
     "collapsed": false,
     "input": [
      "# Distributions control which processes own which (global) indices\n",
      "distribution = darr.distribution"
     ],
     "language": "python",
     "metadata": {
      "slideshow": {
       "slide_type": "subslide"
      }
     },
     "outputs": [],
     "prompt_number": 14
    },
    {
     "cell_type": "code",
     "collapsed": false,
     "input": [
      "# this is a 2D distribution\n",
      "pprint(distribution.maps)"
     ],
     "language": "python",
     "metadata": {
      "slideshow": {
       "slide_type": "subslide"
      }
     },
     "outputs": [
      {
       "output_type": "stream",
       "stream": "stdout",
       "text": [
        "[<distarray.globalapi.maps.BlockMap object at 0x10855d9d0>,\n",
        " <distarray.globalapi.maps.NoDistMap object at 0x10855d910>]\n"
       ]
      }
     ],
     "prompt_number": 15
    },
    {
     "cell_type": "code",
     "collapsed": false,
     "input": [
      "# setup\n",
      "from distarray.plotting import plot_array_distribution\n",
      "process_coords = [(0, 0), (1, 0), (2, 0), (3, 0)]"
     ],
     "language": "python",
     "metadata": {
      "slideshow": {
       "slide_type": "subslide"
      }
     },
     "outputs": [],
     "prompt_number": 16
    },
    {
     "cell_type": "code",
     "collapsed": false,
     "input": [
      "plot_array_distribution(darr, process_coords, cell_label=False, legend=True)"
     ],
     "language": "python",
     "metadata": {
      "slideshow": {
       "slide_type": "subslide"
      }
     },
     "outputs": [
      {
       "metadata": {},
       "output_type": "pyout",
       "prompt_number": 17,
       "text": [
        "<DistArray(shape=(4, 5), targets=[0, 1, 2, 3])>"
       ]
      },
      {
       "metadata": {},
       "output_type": "display_data",
       "png": "[encoded data removed]",
       "text": [
        "<matplotlib.figure.Figure at 0x10857e410>"
       ]
      }
     ],
     "prompt_number": 17
    },
    {
     "cell_type": "code",
     "collapsed": false,
     "input": [
      "distribution.maps[0].bounds"
     ],
     "language": "python",
     "metadata": {
      "slideshow": {
       "slide_type": "subslide"
      }
     },
     "outputs": [
      {
       "metadata": {},
       "output_type": "pyout",
       "prompt_number": 18,
       "text": [
        "[(0, 1), (1, 2), (2, 3), (3, 4)]"
       ]
      }
     ],
     "prompt_number": 18
    },
    {
     "cell_type": "code",
     "collapsed": false,
     "input": [
      "# the above is the default, but you can make more complex distributions\n",
      "from distarray.globalapi import Distribution\n",
      "distribution = Distribution(context, (64, 64), dist=('b', 'c'))\n",
      "a = context.zeros(distribution, dtype='int32')\n",
      "plot_array_distribution(a, process_coords, cell_label=False, legend=True)"
     ],
     "language": "python",
     "metadata": {
      "slideshow": {
       "slide_type": "subslide"
      }
     },
     "outputs": [
      {
       "metadata": {},
       "output_type": "pyout",
       "prompt_number": 19,
       "text": [
        "<DistArray(shape=(64, 64), targets=[0, 1, 2, 3])>"
       ]
      },
      {
       "metadata": {},
       "output_type": "display_data",
       "png": "[encoded data removed]",
       "text": [
        "<matplotlib.figure.Figure at 0x1085cbb50>"
       ]
      }
     ],
     "prompt_number": 19
    },
    {
     "cell_type": "markdown",
     "metadata": {
      "slideshow": {
       "slide_type": "slide"
      }
     },
     "source": [
      "Contexts\n",
      "--------"
     ]
    },
    {
     "cell_type": "code",
     "collapsed": false,
     "input": [
      "# Context objects manage the setup and communication of the worker processes\n",
      "# for DistArray objects. \n",
      "print(\"targets:\", context.targets)\n",
      "print(\"comm:\", context.comm)"
     ],
     "language": "python",
     "metadata": {
      "slideshow": {
       "slide_type": "subslide"
      }
     },
     "outputs": [
      {
       "output_type": "stream",
       "stream": "stdout",
       "text": [
        "targets: [0, 1, 2, 3]\n",
        "comm: <distarray.localapi.proxyize.Proxy object at 0x10855da50>\n"
       ]
      }
     ],
     "prompt_number": 20
    },
    {
     "cell_type": "markdown",
     "metadata": {
      "slideshow": {
       "slide_type": "slide"
      }
     },
     "source": [
      "IO Support\n",
      "-----------------"
     ]
    },
    {
     "cell_type": "code",
     "collapsed": false,
     "input": [
      "# load .npy files in parallel\n",
      "numpy.save(\"/tmp/outfile.npy\", nparr)\n",
      "distribution = Distribution(context, nparr.shape) \n",
      "new_darr = context.load_npy(\"/tmp/outfile.npy\", distribution)\n",
      "new_darr"
     ],
     "language": "python",
     "metadata": {
      "slideshow": {
       "slide_type": "subslide"
      }
     },
     "outputs": [
      {
       "metadata": {},
       "output_type": "pyout",
       "prompt_number": 21,
       "text": [
        "<DistArray(shape=(4, 5), targets=[0, 1, 2, 3])>"
       ]
      }
     ],
     "prompt_number": 21
    },
    {
     "cell_type": "code",
     "collapsed": false,
     "input": [
      "# save DistArrays to .hdf5 files in parallel\n",
      "context.save_hdf5(\"/tmp/outfile.hdf5\", darr, mode='w')"
     ],
     "language": "python",
     "metadata": {
      "slideshow": {
       "slide_type": "subslide"
      }
     },
     "outputs": [],
     "prompt_number": 22
    },
    {
     "cell_type": "code",
     "collapsed": true,
     "input": [
      "# load DistArrays from .hdf5 files in parallel (using h5py)\n",
      "context.load_hdf5(\"/tmp/outfile.hdf5\", distribution)"
     ],
     "language": "python",
     "metadata": {
      "slideshow": {
       "slide_type": "subslide"
      }
     },
     "outputs": [
      {
       "metadata": {},
       "output_type": "pyout",
       "prompt_number": 23,
       "text": [
        "<DistArray(shape=(4, 5), targets=[0, 1, 2, 3])>"
       ]
      }
     ],
     "prompt_number": 23
    },
    {
     "cell_type": "code",
     "collapsed": false,
     "input": [
      "# save to .dnpy (a built-in flat-file format based on .npy)\n",
      "context.save_dnpy(\"/tmp/outfile\", darr)"
     ],
     "language": "python",
     "metadata": {
      "slideshow": {
       "slide_type": "subslide"
      }
     },
     "outputs": [],
     "prompt_number": 24
    },
    {
     "cell_type": "code",
     "collapsed": false,
     "input": [
      "# load from .dnpy\n",
      "context.load_dnpy(\"/tmp/outfile\")"
     ],
     "language": "python",
     "metadata": {
      "slideshow": {
       "slide_type": "subslide"
      }
     },
     "outputs": [
      {
       "metadata": {},
       "output_type": "pyout",
       "prompt_number": 25,
       "text": [
        "<DistArray(shape=(4, 5), targets=[0, 1, 2, 3])>"
       ]
      }
     ],
     "prompt_number": 25
    },
    {
     "cell_type": "markdown",
     "metadata": {
      "slideshow": {
       "slide_type": "slide"
      }
     },
     "source": [
      "Reductions\n",
      "-----------------"
     ]
    },
    {
     "cell_type": "code",
     "collapsed": false,
     "input": [
      "# NumPy\n",
      "print(\"sum:\", nparr.sum())\n",
      "print(\"sum over an axis:\", nparr.sum(axis=1))"
     ],
     "language": "python",
     "metadata": {
      "slideshow": {
       "slide_type": "subslide"
      }
     },
     "outputs": [
      {
       "output_type": "stream",
       "stream": "stdout",
       "text": [
        "sum: 9.91134893538\n",
        "sum over an axis: [ 1.78  3.12  2.72  2.29]\n"
       ]
      }
     ],
     "prompt_number": 26
    },
    {
     "cell_type": "code",
     "collapsed": false,
     "input": [
      "# DistArray\n",
      "print(\"sum:\", darr.sum(), darr.sum().toarray())\n",
      "print(\"sum over an axis:\", darr.sum(axis=1), darr.sum(axis=1).toarray())"
     ],
     "language": "python",
     "metadata": {
      "slideshow": {
       "slide_type": "subslide"
      }
     },
     "outputs": [
      {
       "output_type": "stream",
       "stream": "stdout",
       "text": [
        "sum: <DistArray(shape=(), targets=[0])> 9.91134893538\n",
        "sum over an axis: <DistArray(shape=(4,), targets=[0, 1, 2, 3])> [ 1.78  3.12  2.72  2.29]\n"
       ]
      }
     ],
     "prompt_number": 27
    },
    {
     "cell_type": "markdown",
     "metadata": {
      "slideshow": {
       "slide_type": "slide"
      }
     },
     "source": [
      "Context.apply\n",
      "--------------------\n",
      "Global view, local control"
     ]
    },
    {
     "cell_type": "code",
     "collapsed": false,
     "input": [
      "def get_local_random():\n",
      "    import numpy\n",
      "    return numpy.random.randint(10)\n",
      "\n",
      "context.apply(get_local_random)"
     ],
     "language": "python",
     "metadata": {
      "slideshow": {
       "slide_type": "subslide"
      }
     },
     "outputs": [
      {
       "metadata": {},
       "output_type": "pyout",
       "prompt_number": 28,
       "text": [
        "[5, 2, 5, 0]"
       ]
      }
     ],
     "prompt_number": 28
    },
    {
     "cell_type": "code",
     "collapsed": false,
     "input": [
      "def get_local_var(darr):\n",
      "    return darr.ndarray.var()\n",
      "\n",
      "context.apply(get_local_var, args=(darr.key,))"
     ],
     "language": "python",
     "metadata": {
      "slideshow": {
       "slide_type": "subslide"
      }
     },
     "outputs": [
      {
       "metadata": {},
       "output_type": "pyout",
       "prompt_number": 29,
       "text": [
        "[0.12308113938744629,\n",
        " 0.052670129616570791,\n",
        " 0.035799120922037728,\n",
        " 0.07352164534928203]"
       ]
      }
     ],
     "prompt_number": 29
    },
    {
     "cell_type": "markdown",
     "metadata": {
      "slideshow": {
       "slide_type": "slide"
      }
     },
     "source": [
      "Distributed Slicing\n",
      "--------------------------"
     ]
    },
    {
     "cell_type": "code",
     "collapsed": false,
     "input": [
      "# as a reminder\n",
      "darr.toarray()"
     ],
     "language": "python",
     "metadata": {
      "slideshow": {
       "slide_type": "subslide"
      }
     },
     "outputs": [
      {
       "metadata": {},
       "output_type": "pyout",
       "prompt_number": 30,
       "text": [
        "array([[ 0.24,  0.96,  0.51,  0.02,  0.04],\n",
        "       [ 0.29,  0.52,  0.67,  0.65,  1.  ],\n",
        "       [ 0.56,  0.54,  0.51,  0.26,  0.85],\n",
        "       [ 0.43,  0.17,  0.2 ,  0.58,  0.91]])"
       ]
      }
     ],
     "prompt_number": 30
    },
    {
     "cell_type": "code",
     "collapsed": false,
     "input": [
      "darr.localshapes()"
     ],
     "language": "python",
     "metadata": {
      "slideshow": {
       "slide_type": "subslide"
      }
     },
     "outputs": [
      {
       "metadata": {},
       "output_type": "pyout",
       "prompt_number": 31,
       "text": [
        "[(1, 5), (1, 5), (1, 5), (1, 5)]"
       ]
      }
     ],
     "prompt_number": 31
    },
    {
     "cell_type": "code",
     "collapsed": false,
     "input": [
      "# take a column slice\n",
      "darr_view = darr[:, 3]\n",
      "print(darr_view)\n",
      "print(darr_view.toarray())"
     ],
     "language": "python",
     "metadata": {
      "slideshow": {
       "slide_type": "subslide"
      }
     },
     "outputs": [
      {
       "output_type": "stream",
       "stream": "stdout",
       "text": [
        "<DistArray(shape=(4,), targets=[0, 1, 2, 3])>\n",
        "[ 0.02  0.65  0.26  0.58]\n"
       ]
      }
     ],
     "prompt_number": 32
    },
    {
     "cell_type": "code",
     "collapsed": false,
     "input": [
      "# changes in the view change the original\n",
      "darr_view[3] = -0.99\n",
      "print(\"view:\")\n",
      "print(darr_view.toarray())\n",
      "\n",
      "print(\"original:\")\n",
      "print(darr.toarray())"
     ],
     "language": "python",
     "metadata": {
      "slideshow": {
       "slide_type": "subslide"
      }
     },
     "outputs": [
      {
       "output_type": "stream",
       "stream": "stdout",
       "text": [
        "view:\n",
        "[ 0.02  0.65  0.26 -0.99]\n",
        "original:\n",
        "[[ 0.24  0.96  0.51  0.02  0.04]\n",
        " [ 0.29  0.52  0.67  0.65  1.  ]\n",
        " [ 0.56  0.54  0.51  0.26  0.85]\n",
        " [ 0.43  0.17  0.2  -0.99  0.91]]\n"
       ]
      }
     ],
     "prompt_number": 33
    },
    {
     "cell_type": "code",
     "collapsed": true,
     "input": [
      "# a more complex slice\n",
      "print(darr[:, 2::2])\n",
      "print(darr[:-1, 2::2].toarray())"
     ],
     "language": "python",
     "metadata": {
      "slideshow": {
       "slide_type": "subslide"
      }
     },
     "outputs": [
      {
       "output_type": "stream",
       "stream": "stdout",
       "text": [
        "<DistArray(shape=(4, 2), targets=[0, 1, 2, 3])>\n",
        "[[ 0.51  0.04]\n",
        " [ 0.67  1.  ]\n",
        " [ 0.51  0.85]]\n"
       ]
      }
     ],
     "prompt_number": 34
    },
    {
     "cell_type": "markdown",
     "metadata": {},
     "source": [
      "Registering Functions in a Context\n",
      "-----------------------------------------"
     ]
    },
    {
     "cell_type": "code",
     "collapsed": false,
     "input": [
      "def local_demean(la):\n",
      "    \"\"\"Return the local array with the mean removed.\"\"\"\n",
      "    return la.ndarray - la.ndarray.mean()\n",
      "context.register(local_demean)"
     ],
     "language": "python",
     "metadata": {},
     "outputs": [],
     "prompt_number": 35
    },
    {
     "cell_type": "code",
     "collapsed": false,
     "input": [
      "context.local_demean(darr)"
     ],
     "language": "python",
     "metadata": {},
     "outputs": [
      {
       "metadata": {},
       "output_type": "pyout",
       "prompt_number": 36,
       "text": [
        "[array([[-0.11,  0.61,  0.16, -0.34, -0.31]]),\n",
        " array([[-0.33, -0.11,  0.04,  0.02,  0.37]]),\n",
        " array([[ 0.01, -0.  , -0.03, -0.29,  0.31]]),\n",
        " array([[ 0.29,  0.03,  0.05, -1.13,  0.76]])]"
       ]
      }
     ],
     "prompt_number": 36
    },
    {
     "cell_type": "markdown",
     "metadata": {},
     "source": [
      "MPI-only Execution\n",
      "-------------------------"
     ]
    },
    {
     "cell_type": "markdown",
     "metadata": {},
     "source": [
      "Instead of using an IPython client (which uses ZeroMQ to communicate to the engines), you can now run in MPI-only mode (using an extra MPI process for the client).  This can be more performant."
     ]
    },
    {
     "cell_type": "code",
     "collapsed": false,
     "input": [
      "%cd julia_set\n",
      "!python benchmark_julia.py -h"
     ],
     "language": "python",
     "metadata": {},
     "outputs": [
      {
       "output_type": "stream",
       "stream": "stdout",
       "text": [
        "/Users/ksmith/work/sbir/repos/distarray/examples/julia_set\n"
       ]
      },
      {
       "output_type": "stream",
       "stream": "stdout",
       "text": [
        "usage: benchmark_julia.py [-h] [-r REPEAT_COUNT] [-o OUTPUT_FILENAME] [-k {fancy,numpy,cython}] [-s {strong,weak}] N [N ...]\r\n",
        "\r\n",
        "Calculate some Julia sets using DistArray and measure the performance. The Julia set, for a given complex number c, is the set of points z such that the repeated iteration z = z**2 + c never escapes to infinity. This can be\r\n",
        "plotted by counting how many iterations are required for the magnitude of z to exceed a cutoff. (For example, if abs(z) > 2, then it it certain that the point will go off to infinity.) Depending on the value of c, the Julia\r\n",
        "set may be connected and contain a lot of points, or it could be disconnected and contain fewer points. The points in the set will require the maximum iteration count, so the connected sets will usually take longer to\r\n",
        "compute.\r\n",
        "\r\n",
        "positional arguments:\r\n",
        "  N                     resolutions of the Julia set to benchmark (NxN)\r\n",
        "\r\n",
        "optional arguments:\r\n",
        "  -h, --help            show this help message and exit\r\n",
        "  -r REPEAT_COUNT, --repeat REPEAT_COUNT\r\n",
        "                        number of repetitions of each unique parameter set, default: 3\r\n",
        "  -o OUTPUT_FILENAME, --output-filename OUTPUT_FILENAME\r\n",
        "                        filename to write the json data to.\r\n",
        "  -k {fancy,numpy,cython}, --kernel {fancy,numpy,cython}\r\n",
        "                        kernel to use for computation. Options are 'fancy', 'numpy', or 'cython'.\r\n",
        "  -s {strong,weak}, --scaling {strong,weak}\r\n",
        "                        Kind of scaling test. Options are 'strong' or 'weak'\r\n"
       ]
      }
     ],
     "prompt_number": 37
    },
    {
     "cell_type": "code",
     "collapsed": false,
     "input": [
      "# Note that we're using 5 MPI processes:\n",
      "# 4 worker processes and 1 client process\n",
      "!mpiexec -np 5 python benchmark_julia.py --kernel=cython -r1 1024"
     ],
     "language": "python",
     "metadata": {},
     "outputs": [
      {
       "output_type": "stream",
       "stream": "stdout",
       "text": [
        "(n/n_runs: time) ('Start', 'End', 'Dist', 'Resolution', 'c', 'Engines', 'Iters')\r\n"
       ]
      },
      {
       "output_type": "stream",
       "stream": "stdout",
       "text": [
        "(1/17: 0.227s) (1407450518.511239, 1407450518.738206, 'numpy', 1024, '(-0.045+0.45j)', 1, [32763832L])\r\n"
       ]
      },
      {
       "output_type": "stream",
       "stream": "stdout",
       "text": [
        "(2/17: 0.230s) (1407450518.747171, 1407450518.977435, 'b-n', 1024, '(-0.045+0.45j)', 1, [32763832L])\r\n"
       ]
      },
      {
       "output_type": "stream",
       "stream": "stdout",
       "text": [
        "(3/17: 0.228s) (1407450518.984821, 1407450519.213297, 'c-n', 1024, '(-0.045+0.45j)', 1, [32763832L])\r\n"
       ]
      },
      {
       "output_type": "stream",
       "stream": "stdout",
       "text": [
        "(4/17: 0.236s) (1407450519.221641, 1407450519.457647, 'b-b', 1024, '(-0.045+0.45j)', 1, [32763832L])\r\n"
       ]
      },
      {
       "output_type": "stream",
       "stream": "stdout",
       "text": [
        "(5/17: 0.233s) (1407450519.465734, 1407450519.698353, 'c-c', 1024, '(-0.045+0.45j)', 1, [32763832L])\r\n"
       ]
      },
      {
       "output_type": "stream",
       "stream": "stdout",
       "text": [
        "(6/17: 0.119s) (1407450519.707706, 1407450519.827013, 'b-n', 1024, '(-0.045+0.45j)', 2, [16345977L, 16417855L])\r\n"
       ]
      },
      {
       "output_type": "stream",
       "stream": "stdout",
       "text": [
        "(7/17: 0.116s) (1407450519.833637, 1407450519.949761, 'c-n', 1024, '(-0.045+0.45j)', 2, [16382826L, 16381006L])\r\n"
       ]
      },
      {
       "output_type": "stream",
       "stream": "stdout",
       "text": [
        "(8/17: 0.121s) (1407450519.955619, 1407450520.076431, 'b-b', 1024, '(-0.045+0.45j)', 2, [16354361L, 16409471L])\r\n"
       ]
      },
      {
       "output_type": "stream",
       "stream": "stdout",
       "text": [
        "(9/17: 0.118s) (1407450520.081737, 1407450520.199261, 'c-c', 1024, '(-0.045+0.45j)', 2, [16384932L, 16378900L])\r\n"
       ]
      },
      {
       "output_type": "stream",
       "stream": "stdout",
       "text": [
        "(10/17: 0.143s) (1407450520.208196, 1407450520.351436, 'b-n', 1024, '(-0.045+0.45j)', 3, [6243924L, 20326746L, 6193162L])\r\n"
       ]
      },
      {
       "output_type": "stream",
       "stream": "stdout",
       "text": [
        "(11/17: 0.079s) (1407450520.357601, 1407450520.436787, 'c-n', 1024, '(-0.045+0.45j)', 3, [10922548L, 10921645L, 10919639L])\r\n"
       ]
      },
      {
       "output_type": "stream",
       "stream": "stdout",
       "text": [
        "(12/17: 0.139s) (1407450520.441887, 1407450520.581131, 'b-b', 1024, '(-0.045+0.45j)', 3, [6779920L, 19264315L, 6719597L])\r\n"
       ]
      },
      {
       "output_type": "stream",
       "stream": "stdout",
       "text": [
        "(13/17: 0.083s) (1407450520.586455, 1407450520.669227, 'c-c', 1024, '(-0.045+0.45j)', 3, [10921355L, 10920452L, 10922025L])\r\n"
       ]
      },
      {
       "output_type": "stream",
       "stream": "stdout",
       "text": [
        "(14/17: 0.099s) (1407450520.67801, 1407450520.777189, 'b-n', 1024, '(-0.045+0.45j)', 4, [2725843L, 13620134L, 13659620L, 2758235L])\r\n"
       ]
      },
      {
       "output_type": "stream",
       "stream": "stdout",
       "text": [
        "(15/17: 0.067s) (1407450520.783464, 1407450520.850202, 'c-n', 1024, '(-0.045+0.45j)', 4, [8190582L, 8190503L, 8192244L, 8190503L])\r\n"
       ]
      },
      {
       "output_type": "stream",
       "stream": "stdout",
       "text": [
        "(16/17: 0.085s) (1407450520.856111, 1407450520.940923, 'b-b', 1024, '(-0.045+0.45j)', 4, [5859333L, 10486644L, 10495028L, 5922827L])\r\n"
       ]
      },
      {
       "output_type": "stream",
       "stream": "stdout",
       "text": [
        "(17/17: 0.072s) (1407450520.947287, 1407450521.019117, 'c-c', 1024, '(-0.045+0.45j)', 4, [8193330L, 8189496L, 8191602L, 8189404L])\r\n"
       ]
      }
     ],
     "prompt_number": 38
    },
    {
     "cell_type": "markdown",
     "metadata": {
      "slideshow": {
       "slide_type": "slide"
      }
     },
     "source": [
      "Distributed Array Protocol\n",
      "---------------------------------\n",
      "The Distributed Array Protocol (DAP) is a process-local protocol that allows two subscribers, called the \"producer\" and the \"consumer\" or the \"exporter\" and the \"importer\", to communicate the essential data and metadata necessary to share a distributed-memory array between them. This allows two independently developed components to access, modify, and update a distributed array without copying. The protocol formalizes the metadata and buffers involved in the transfer, allowing several distributed array projects to collaborate, facilitating interoperability. By not copying the underlying array data, the protocol allows for efficient sharing of array data.\n",
      "\n",
      "http://distributed-array-protocol.readthedocs.org/en/rel-0.9.0/"
     ]
    },
    {
     "cell_type": "code",
     "collapsed": false,
     "input": [
      "def return_protocol_structure(la):\n",
      "    return la.__distarray__()\n",
      "\n",
      "context.apply(return_protocol_structure, (darr.key,))"
     ],
     "language": "python",
     "metadata": {
      "slideshow": {
       "slide_type": "subslide"
      }
     },
     "outputs": [
      {
       "metadata": {},
       "output_type": "pyout",
       "prompt_number": 39,
       "text": [
        "[{'__version__': '0.10.0',\n",
        "  'buffer': array([[ 0.24,  0.96,  0.51,  0.02,  0.04]]),\n",
        "  'dim_data': ({'dist_type': 'b',\n",
        "    'proc_grid_rank': 0,\n",
        "    'proc_grid_size': 4,\n",
        "    'size': 4,\n",
        "    'start': 0,\n",
        "    'stop': 1},\n",
        "   {'dist_type': 'b',\n",
        "    'proc_grid_rank': 0,\n",
        "    'proc_grid_size': 1,\n",
        "    'size': 5,\n",
        "    'start': 0,\n",
        "    'stop': 5})},\n",
        " {'__version__': '0.10.0',\n",
        "  'buffer': array([[ 0.29,  0.52,  0.67,  0.65,  1.  ]]),\n",
        "  'dim_data': ({'dist_type': 'b',\n",
        "    'proc_grid_rank': 1,\n",
        "    'proc_grid_size': 4,\n",
        "    'size': 4,\n",
        "    'start': 1,\n",
        "    'stop': 2},\n",
        "   {'dist_type': 'b',\n",
        "    'proc_grid_rank': 0,\n",
        "    'proc_grid_size': 1,\n",
        "    'size': 5,\n",
        "    'start': 0,\n",
        "    'stop': 5})},\n",
        " {'__version__': '0.10.0',\n",
        "  'buffer': array([[ 0.56,  0.54,  0.51,  0.26,  0.85]]),\n",
        "  'dim_data': ({'dist_type': 'b',\n",
        "    'proc_grid_rank': 2,\n",
        "    'proc_grid_size': 4,\n",
        "    'size': 4,\n",
        "    'start': 2,\n",
        "    'stop': 3},\n",
        "   {'dist_type': 'b',\n",
        "    'proc_grid_rank': 0,\n",
        "    'proc_grid_size': 1,\n",
        "    'size': 5,\n",
        "    'start': 0,\n",
        "    'stop': 5})},\n",
        " {'__version__': '0.10.0',\n",
        "  'buffer': array([[ 0.43,  0.17,  0.2 , -0.99,  0.91]]),\n",
        "  'dim_data': ({'dist_type': 'b',\n",
        "    'proc_grid_rank': 3,\n",
        "    'proc_grid_size': 4,\n",
        "    'size': 4,\n",
        "    'start': 3,\n",
        "    'stop': 4},\n",
        "   {'dist_type': 'b',\n",
        "    'proc_grid_rank': 0,\n",
        "    'proc_grid_size': 1,\n",
        "    'size': 5,\n",
        "    'start': 0,\n",
        "    'stop': 5})}]"
       ]
      }
     ],
     "prompt_number": 39
    },
    {
     "cell_type": "markdown",
     "metadata": {},
     "source": [
      "Acknowledgement and Disclaimer\n",
      "------------------------------\n",
      "\n",
      "This material is based upon work supported by the Department of Energy under Award Number DE-SC0007699.\n",
      "\n",
      "This report was prepared as an account of work sponsored by an agency of the United States Government. Neither the United States Government nor any agency thereof, nor any of their employees, makes any warranty, express or implied, or assumes any legal liability or responsibility for the accuracy, completeness, or usefulness of any information, apparatus, product, or process disclosed, or represents that its use would not infringe privately owned rights. Reference herein to any specific commercial product, process, or service by trade name, trademark, manufacturer, or otherwise does not necessarily constitute or imply its endorsement, recommendation, or favoring by the United States Government or any agency thereof. The views and opinions of authors expressed herein do not necessarily state or reflect those of the United States Government or any agency thereof. "
     ]
    }
   ],
   "metadata": {}
  }
 ]
}