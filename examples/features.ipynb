{
 "metadata": {
  "name": "",
  "signature": "sha256:f713c2286deccce3b5245bb6c81ca2ed575c733ba486e193ffc75168e7fdeb9c"
 },
 "nbformat": 3,
 "nbformat_minor": 0,
 "worksheets": [
  {
   "cells": [
    {
     "cell_type": "markdown",
     "metadata": {
      "slideshow": {
       "slide_type": "slide"
      }
     },
     "source": [
      "DistArray: Distributed Arrays for Python\n",
      "========================================\n",
      "\n",
      "[docs.enthought.com/distarray](http://docs.enthought.com/distarray)"
     ]
    },
    {
     "cell_type": "markdown",
     "metadata": {
      "slideshow": {
       "slide_type": "subslide"
      }
     },
     "source": [
      "Setup\n",
      "-----\n",
      "Much of this notebook requires an `IPython.parallel` cluster to be running.\n",
      "Outside the notebook, run\n",
      "```\n",
      "dacluster start -n4\n",
      "```"
     ]
    },
    {
     "cell_type": "markdown",
     "metadata": {},
     "source": [
      "First, some utility imports, setup, and inline display settings:"
     ]
    },
    {
     "cell_type": "code",
     "collapsed": false,
     "input": [
      "from __future__ import print_function\n",
      "from pprint import pprint\n",
      "from matplotlib import pyplot as plt\n",
      "\n",
      "# main imports\n",
      "import numpy\n",
      "import distarray\n",
      "\n",
      "# reduce precision on printed array values\n",
      "numpy.set_printoptions(precision=2)\n",
      "\n",
      "# display figures inline\n",
      "%matplotlib inline"
     ],
     "language": "python",
     "metadata": {
      "slideshow": {
       "slide_type": "slide"
      }
     },
     "outputs": [],
     "prompt_number": 1
    },
    {
     "cell_type": "markdown",
     "metadata": {
      "slideshow": {
       "slide_type": "slide"
      }
     },
     "source": [
      "NumPy Arrays\n",
      "------------\n",
      "\n",
      "DistArray is built on NumPy and provides a NumPy-array-like interface.  First, let's generate a NumPy array and examine some of its attributes.  Let's start with a (4x5) random array:"
     ]
    },
    {
     "cell_type": "code",
     "collapsed": false,
     "input": [
      "nparr = numpy.random.random((4, 5))\n",
      "nparr"
     ],
     "language": "python",
     "metadata": {
      "slideshow": {
       "slide_type": "subslide"
      }
     },
     "outputs": [
      {
       "metadata": {},
       "output_type": "pyout",
       "prompt_number": 2,
       "text": [
        "array([[ 0.11,  0.93,  0.01,  0.92,  0.79],\n",
        "       [ 0.65,  0.59,  0.54,  0.75,  0.9 ],\n",
        "       [ 0.23,  0.01,  0.95,  0.62,  0.39],\n",
        "       [ 0.76,  0.52,  0.59,  0.72,  0.52]])"
       ]
      }
     ],
     "prompt_number": 2
    },
    {
     "cell_type": "markdown",
     "metadata": {},
     "source": [
      "Let's look at some of the array's attributes:"
     ]
    },
    {
     "cell_type": "code",
     "collapsed": false,
     "input": [
      "print(\"type:\", type(nparr))\n",
      "print(\"dtype:\", nparr.dtype)\n",
      "print(\"ndim:\", nparr.ndim)\n",
      "print(\"shape:\", nparr.shape)\n",
      "print(\"itemsize:\", nparr.itemsize)\n",
      "print(\"nbytes:\", nparr.nbytes)"
     ],
     "language": "python",
     "metadata": {},
     "outputs": [
      {
       "output_type": "stream",
       "stream": "stdout",
       "text": [
        "type: <type 'numpy.ndarray'>\n",
        "dtype: float64\n",
        "ndim: 2\n",
        "shape: (4, 5)\n",
        "itemsize: 8\n",
        "nbytes: 160\n"
       ]
      }
     ],
     "prompt_number": 3
    },
    {
     "cell_type": "markdown",
     "metadata": {
      "slideshow": {
       "slide_type": "slide"
      }
     },
     "source": [
      "DistArrays\n",
      "----------\n",
      "\n",
      "We'll make our first `DistArray` out of the NumPy array created above.\n",
      "\n",
      "First, we need a `Context` object; more on this later.  For now, think of it as a supercharged `NumPy` like module with internal DistArray stuff for managing communication and setup.\n",
      "\n",
      "A `Context` instance manages the worker engines for us:"
     ]
    },
    {
     "cell_type": "code",
     "collapsed": false,
     "input": [
      "from distarray.globalapi import Context\n",
      "context = Context()"
     ],
     "language": "python",
     "metadata": {
      "slideshow": {
       "slide_type": "subslide"
      }
     },
     "outputs": [
      {
       "output_type": "stream",
       "stream": "stderr",
       "text": [
        "/Users/ksmith/Devel/virt-py64/lib/python2.7/site-packages/IPython/parallel/client/client.py:446: RuntimeWarning: \n",
        "            Controller appears to be listening on localhost, but not on this machine.\n",
        "            If this is true, you should specify Client(...,sshserver='you@192.168.0.84')\n",
        "            or instruct your controller to listen on an external IP.\n",
        "  RuntimeWarning)\n"
       ]
      }
     ],
     "prompt_number": 4
    },
    {
     "cell_type": "markdown",
     "metadata": {},
     "source": [
      "Now that we have `context`, we can use it to create a `DistArray` from our `nparr` NumPy array.  Calling `context.fromarray(nparr)` breaks up our NumPy array into sections (one per worker engine) and sends them out to our engines:"
     ]
    },
    {
     "cell_type": "code",
     "collapsed": false,
     "input": [
      "darr = context.fromarray(nparr)\n",
      "darr"
     ],
     "language": "python",
     "metadata": {},
     "outputs": [
      {
       "metadata": {},
       "output_type": "pyout",
       "prompt_number": 5,
       "text": [
        "<DistArray(shape=(4, 5), targets=[0, 1, 2, 3])>"
       ]
      }
     ],
     "prompt_number": 5
    },
    {
     "cell_type": "markdown",
     "metadata": {},
     "source": [
      "Let's print the local arrays for our `darr` DistArray.  Calling `get_localarrays()` returns a sequence of local NumPy arrays, one per engine.  This is not frequently done, but is handy to inspect what is stored on each engine:"
     ]
    },
    {
     "cell_type": "code",
     "collapsed": false,
     "input": [
      "for i, a in enumerate(darr.get_localarrays()):\n",
      "    print(i, a)"
     ],
     "language": "python",
     "metadata": {
      "slideshow": {
       "slide_type": "subslide"
      }
     },
     "outputs": [
      {
       "output_type": "stream",
       "stream": "stdout",
       "text": [
        "0 [[ 0.11  0.93  0.01  0.92  0.79]]\n",
        "1 [[ 0.65  0.59  0.54  0.75  0.9 ]]\n",
        "2 [[ 0.23  0.01  0.95  0.62  0.39]]\n",
        "3 [[ 0.76  0.52  0.59  0.72  0.52]]\n"
       ]
      }
     ],
     "prompt_number": 6
    },
    {
     "cell_type": "markdown",
     "metadata": {},
     "source": [
      "The `darr` DistArray object provides a NumPy like interface, and it has all the usual NumPy attributes:"
     ]
    },
    {
     "cell_type": "code",
     "collapsed": false,
     "input": [
      "print(\"type:\", type(darr))\n",
      "print(\"dtype:\", darr.dtype)\n",
      "print(\"ndim:\", darr.ndim)\n",
      "print(\"shape:\", darr.shape)\n",
      "print(\"itemsize:\", darr.itemsize)\n",
      "print(\"nbytes:\", darr.nbytes)"
     ],
     "language": "python",
     "metadata": {
      "slideshow": {
       "slide_type": "subslide"
      }
     },
     "outputs": [
      {
       "output_type": "stream",
       "stream": "stdout",
       "text": [
        "type: <class 'distarray.globalapi.distarray.DistArray'>\n",
        "dtype: float64\n",
        "ndim: 2\n",
        "shape: (4, 5)\n",
        "itemsize: 8\n",
        "nbytes: 160\n"
       ]
      }
     ],
     "prompt_number": 7
    },
    {
     "cell_type": "markdown",
     "metadata": {},
     "source": [
      "It also has some extra attributes related to its distributed nature:"
     ]
    },
    {
     "cell_type": "code",
     "collapsed": false,
     "input": [
      "print(\"targets:\", darr.targets)\n",
      "print(\"context:\", darr.context)\n",
      "print(\"distribution:\", darr.distribution)"
     ],
     "language": "python",
     "metadata": {
      "slideshow": {
       "slide_type": "subslide"
      }
     },
     "outputs": [
      {
       "output_type": "stream",
       "stream": "stdout",
       "text": [
        "targets: [0, 1, 2, 3]\n",
        "context: <distarray.globalapi.context.IPythonContext object at 0x101ac2590>\n",
        "distribution: <distarray.globalapi.maps.Distribution object at 0x107557f10>\n"
       ]
      }
     ],
     "prompt_number": 8
    },
    {
     "cell_type": "markdown",
     "metadata": {
      "slideshow": {
       "slide_type": "slide"
      }
     },
     "source": [
      "Universal Functions (ufuncs)\n",
      "----------------------------"
     ]
    },
    {
     "cell_type": "markdown",
     "metadata": {},
     "source": [
      "As we know, NumPy provides _Universal Functions_, or `ufuncs`, that operate element-wise over NumPy arrays:"
     ]
    },
    {
     "cell_type": "code",
     "collapsed": false,
     "input": [
      "numpy.sin(nparr)"
     ],
     "language": "python",
     "metadata": {
      "slideshow": {
       "slide_type": "subslide"
      }
     },
     "outputs": [
      {
       "metadata": {},
       "output_type": "pyout",
       "prompt_number": 9,
       "text": [
        "array([[ 0.11,  0.8 ,  0.01,  0.8 ,  0.71],\n",
        "       [ 0.6 ,  0.56,  0.51,  0.68,  0.78],\n",
        "       [ 0.23,  0.01,  0.81,  0.58,  0.38],\n",
        "       [ 0.69,  0.49,  0.55,  0.66,  0.49]])"
       ]
      }
     ],
     "prompt_number": 9
    },
    {
     "cell_type": "markdown",
     "metadata": {},
     "source": [
      "One would expect DistArray distributed ufunc analogues, and one would not be disappointed.  Distributed ufuncs are computed in a distributed (i.e., data-parallel) fashion:"
     ]
    },
    {
     "cell_type": "code",
     "collapsed": false,
     "input": [
      "import distarray.globalapi as da\n",
      "da.sin(darr)"
     ],
     "language": "python",
     "metadata": {
      "slideshow": {
       "slide_type": "subslide"
      }
     },
     "outputs": [
      {
       "metadata": {},
       "output_type": "pyout",
       "prompt_number": 10,
       "text": [
        "<DistArray(shape=(4, 5), targets=[0, 1, 2, 3])>"
       ]
      }
     ],
     "prompt_number": 10
    },
    {
     "cell_type": "markdown",
     "metadata": {},
     "source": [
      "To prove that there's nothing up our sleeves, we can convert the result of our distributed ufunc call to a local NumPy array and compare.  We use the `tondarray()` method to convert our distributed array to a non-distributed regular NumPy array:"
     ]
    },
    {
     "cell_type": "code",
     "collapsed": false,
     "input": [
      "da.sin(darr).toarray()"
     ],
     "language": "python",
     "metadata": {
      "slideshow": {
       "slide_type": "subslide"
      }
     },
     "outputs": [
      {
       "metadata": {},
       "output_type": "pyout",
       "prompt_number": 11,
       "text": [
        "array([[ 0.11,  0.8 ,  0.01,  0.8 ,  0.71],\n",
        "       [ 0.6 ,  0.56,  0.51,  0.68,  0.78],\n",
        "       [ 0.23,  0.01,  0.81,  0.58,  0.38],\n",
        "       [ 0.69,  0.49,  0.55,  0.66,  0.49]])"
       ]
      }
     ],
     "prompt_number": 11
    },
    {
     "cell_type": "markdown",
     "metadata": {},
     "source": [
      "Binary ufuncs on NumPy arrays evaluate to a new NumPy array:"
     ]
    },
    {
     "cell_type": "code",
     "collapsed": false,
     "input": [
      "nparr + nparr"
     ],
     "language": "python",
     "metadata": {
      "slideshow": {
       "slide_type": "subslide"
      }
     },
     "outputs": [
      {
       "metadata": {},
       "output_type": "pyout",
       "prompt_number": 12,
       "text": [
        "array([[ 0.22,  1.85,  0.02,  1.85,  1.58],\n",
        "       [ 1.29,  1.18,  1.07,  1.5 ,  1.79],\n",
        "       [ 0.46,  0.01,  1.9 ,  1.24,  0.77],\n",
        "       [ 1.52,  1.03,  1.17,  1.44,  1.03]])"
       ]
      }
     ],
     "prompt_number": 12
    },
    {
     "cell_type": "markdown",
     "metadata": {},
     "source": [
      "And a distributed binary ufunc is similar.  The resulting DistArray is computed without moving data between the client and engines:"
     ]
    },
    {
     "cell_type": "code",
     "collapsed": false,
     "input": [
      "darr + darr"
     ],
     "language": "python",
     "metadata": {
      "slideshow": {
       "slide_type": "subslide"
      }
     },
     "outputs": [
      {
       "metadata": {},
       "output_type": "pyout",
       "prompt_number": 13,
       "text": [
        "<DistArray(shape=(4, 5), targets=[0, 1, 2, 3])>"
       ]
      }
     ],
     "prompt_number": 13
    },
    {
     "cell_type": "markdown",
     "metadata": {},
     "source": [
      "We can check that the results line up as expected:"
     ]
    },
    {
     "cell_type": "code",
     "collapsed": false,
     "input": [
      "(darr + darr).toarray()"
     ],
     "language": "python",
     "metadata": {
      "slideshow": {
       "slide_type": "subslide"
      }
     },
     "outputs": [
      {
       "metadata": {},
       "output_type": "pyout",
       "prompt_number": 14,
       "text": [
        "array([[ 0.22,  1.85,  0.02,  1.85,  1.58],\n",
        "       [ 1.29,  1.18,  1.07,  1.5 ,  1.79],\n",
        "       [ 0.46,  0.01,  1.9 ,  1.24,  0.77],\n",
        "       [ 1.52,  1.03,  1.17,  1.44,  1.03]])"
       ]
      }
     ],
     "prompt_number": 14
    },
    {
     "cell_type": "markdown",
     "metadata": {
      "slideshow": {
       "slide_type": "slide"
      }
     },
     "source": [
      "Reductions\n",
      "----------\n",
      "\n",
      "Functions like `sum`, `mean`, `min`, and `max` are known as *reductions*, since they take an array and produce a smaller array or a scalar.  In NumPy and DistArray, some of these functions can be applied over a specific ``axis``.\n",
      "\n",
      "First, consider the `sum()` method on NumPy arrays:"
     ]
    },
    {
     "cell_type": "code",
     "collapsed": false,
     "input": [
      "print(\"sum:\", nparr.sum())\n",
      "print(\"sum over an axis:\", nparr.sum(axis=1))"
     ],
     "language": "python",
     "metadata": {
      "slideshow": {
       "slide_type": "subslide"
      }
     },
     "outputs": [
      {
       "output_type": "stream",
       "stream": "stdout",
       "text": [
        "sum: 11.4651106186\n",
        "sum over an axis: [ 2.76  3.42  2.19  3.1 ]\n"
       ]
      }
     ],
     "prompt_number": 15
    },
    {
     "cell_type": "markdown",
     "metadata": {},
     "source": [
      "DistArray objects also support the `sum()` method, with an optional `axis` argument:"
     ]
    },
    {
     "cell_type": "code",
     "collapsed": false,
     "input": [
      "print(\"sum:\", darr.sum(), darr.sum().toarray())\n",
      "print(\"sum over an axis:\", darr.sum(axis=1), darr.sum(axis=1).toarray())"
     ],
     "language": "python",
     "metadata": {
      "slideshow": {
       "slide_type": "subslide"
      }
     },
     "outputs": [
      {
       "output_type": "stream",
       "stream": "stdout",
       "text": [
        "sum: <DistArray(shape=(), targets=[0])> 11.4651106186\n",
        "sum over an axis: <DistArray(shape=(4,), targets=[0, 1, 2, 3])> [ 2.76  3.42  2.19  3.1 ]\n"
       ]
      }
     ],
     "prompt_number": 16
    },
    {
     "cell_type": "markdown",
     "metadata": {
      "slideshow": {
       "slide_type": "slide"
      }
     },
     "source": [
      "Indexing and Slicing\n",
      "--------------------\n",
      "\n",
      "DistArrays support standard NumPy Indexing and distributed slicing, including slices with a step.  Slicing is currently only supported for Block-distributed dimensions.\n",
      "\n",
      "Let's look at the contents of our `darr` DistArray for reference:"
     ]
    },
    {
     "cell_type": "code",
     "collapsed": false,
     "input": [
      "darr.toarray()"
     ],
     "language": "python",
     "metadata": {
      "slideshow": {
       "slide_type": "subslide"
      }
     },
     "outputs": [
      {
       "metadata": {},
       "output_type": "pyout",
       "prompt_number": 17,
       "text": [
        "array([[ 0.11,  0.93,  0.01,  0.92,  0.79],\n",
        "       [ 0.65,  0.59,  0.54,  0.75,  0.9 ],\n",
        "       [ 0.23,  0.01,  0.95,  0.62,  0.39],\n",
        "       [ 0.76,  0.52,  0.59,  0.72,  0.52]])"
       ]
      }
     ],
     "prompt_number": 17
    },
    {
     "cell_type": "markdown",
     "metadata": {},
     "source": [
      "We can use the `localshapes()` method to get the shapes of each local array section:"
     ]
    },
    {
     "cell_type": "code",
     "collapsed": false,
     "input": [
      "darr.localshapes()"
     ],
     "language": "python",
     "metadata": {
      "slideshow": {
       "slide_type": "subslide"
      }
     },
     "outputs": [
      {
       "metadata": {},
       "output_type": "pyout",
       "prompt_number": 18,
       "text": [
        "[(1, 5), (1, 5), (1, 5), (1, 5)]"
       ]
      }
     ],
     "prompt_number": 18
    },
    {
     "cell_type": "markdown",
     "metadata": {},
     "source": [
      "As we would expect, we can extract individual elements from our DistArray:"
     ]
    },
    {
     "cell_type": "code",
     "collapsed": false,
     "input": [
      "darr[0, 2]"
     ],
     "language": "python",
     "metadata": {},
     "outputs": [
      {
       "metadata": {},
       "output_type": "pyout",
       "prompt_number": 19,
       "text": [
        "0.010607593880352484"
       ]
      }
     ],
     "prompt_number": 19
    },
    {
     "cell_type": "markdown",
     "metadata": {},
     "source": [
      "We can also take a slice of our DistArray, resulting in a new DistArray:"
     ]
    },
    {
     "cell_type": "code",
     "collapsed": false,
     "input": [
      "darr_view = darr[:, 3]  # all rows, third column\n",
      "print(darr_view)\n",
      "print(darr_view.toarray())"
     ],
     "language": "python",
     "metadata": {
      "slideshow": {
       "slide_type": "subslide"
      }
     },
     "outputs": [
      {
       "output_type": "stream",
       "stream": "stdout",
       "text": [
        "<DistArray(shape=(4,), targets=[0, 1, 2, 3])>\n",
        "[ 0.92  0.75  0.62  0.72]\n"
       ]
      }
     ],
     "prompt_number": 20
    },
    {
     "cell_type": "markdown",
     "metadata": {},
     "source": [
      "Like NumPy, slicing returns a new array that views the underlying data.  Changes in the view modify the original array's data as well:"
     ]
    },
    {
     "cell_type": "code",
     "collapsed": false,
     "input": [
      "darr_view[3] = 1000\n",
      "print(\"view:\")\n",
      "print(darr_view.toarray())\n",
      "\n",
      "print(\"original:\")\n",
      "print(darr.toarray())"
     ],
     "language": "python",
     "metadata": {
      "slideshow": {
       "slide_type": "subslide"
      }
     },
     "outputs": [
      {
       "output_type": "stream",
       "stream": "stdout",
       "text": [
        "view:\n",
        "[  9.23e-01   7.49e-01   6.19e-01   1.00e+03]\n",
        "original:\n",
        "[[  1.08e-01   9.27e-01   1.06e-02   9.23e-01   7.91e-01]\n",
        " [  6.46e-01   5.90e-01   5.36e-01   7.49e-01   8.96e-01]\n",
        " [  2.29e-01   5.99e-03   9.48e-01   6.19e-01   3.87e-01]\n",
        " [  7.61e-01   5.17e-01   5.87e-01   1.00e+03   5.17e-01]]\n"
       ]
      }
     ],
     "prompt_number": 21
    },
    {
     "cell_type": "markdown",
     "metadata": {},
     "source": [
      "DistArray objects support more complex slicing as well:"
     ]
    },
    {
     "cell_type": "code",
     "collapsed": true,
     "input": [
      "print(darr[:, 2::2])\n",
      "print(darr[:-1, 2::2].toarray())"
     ],
     "language": "python",
     "metadata": {
      "slideshow": {
       "slide_type": "subslide"
      }
     },
     "outputs": [
      {
       "output_type": "stream",
       "stream": "stdout",
       "text": [
        "<DistArray(shape=(4, 2), targets=[0, 1, 2, 3])>\n",
        "[[ 0.01  0.79]\n",
        " [ 0.54  0.9 ]\n",
        " [ 0.95  0.39]]\n"
       ]
      }
     ],
     "prompt_number": 22
    },
    {
     "cell_type": "markdown",
     "metadata": {},
     "source": [
      "Incomplete indexing selects entire array sections at a time, as in NumPy:"
     ]
    },
    {
     "cell_type": "code",
     "collapsed": false,
     "input": [
      "# Grab the first row\n",
      "darr[0]"
     ],
     "language": "python",
     "metadata": {},
     "outputs": [
      {
       "metadata": {},
       "output_type": "pyout",
       "prompt_number": 23,
       "text": [
        "<DistArray(shape=(5,), targets=[0])>"
       ]
      }
     ],
     "prompt_number": 23
    },
    {
     "cell_type": "markdown",
     "metadata": {
      "slideshow": {
       "slide_type": "slide"
      }
     },
     "source": [
      "Distributions\n",
      "-------------\n",
      "Above, when we created a DistArray out of a NumPy array, we didn't specify *how* the elements should be distributed among our engines.  `Distribution`s give you control over this, if you want it.  In other words, `Distribution`s control which processes own which (global) indices.\n",
      "\n",
      "First, let's inspect the `Distribution` object that was automatically created when we called `fromarray()` earlier:"
     ]
    },
    {
     "cell_type": "code",
     "collapsed": false,
     "input": [
      "distribution = darr.distribution"
     ],
     "language": "python",
     "metadata": {
      "slideshow": {
       "slide_type": "subslide"
      }
     },
     "outputs": [],
     "prompt_number": 24
    },
    {
     "cell_type": "markdown",
     "metadata": {},
     "source": [
      "In this case, `distribution` is a two-dimensional distribution object.  Its 0th dimension (or axis) is block-distributed, and its 1st dimension (or axis) is not distributed:"
     ]
    },
    {
     "cell_type": "code",
     "collapsed": false,
     "input": [
      "pprint(distribution.maps)"
     ],
     "language": "python",
     "metadata": {
      "slideshow": {
       "slide_type": "subslide"
      }
     },
     "outputs": [
      {
       "output_type": "stream",
       "stream": "stdout",
       "text": [
        "[<distarray.globalapi.maps.BlockMap object at 0x107557f50>,\n",
        " <distarray.globalapi.maps.NoDistMap object at 0x107557f90>]\n"
       ]
      }
     ],
     "prompt_number": 25
    },
    {
     "cell_type": "markdown",
     "metadata": {},
     "source": [
      "We can easily plot an array's distribution using a convenience routine from `distarray.plotting`.  This gives a color-coded plot indicating which array elements are located on which process (or target, or engine):"
     ]
    },
    {
     "cell_type": "code",
     "collapsed": false,
     "input": [
      "from distarray.plotting import plot_array_distribution\n",
      "process_coords = [(0, 0), (1, 0), (2, 0), (3, 0)]\n",
      "plot_array_distribution(darr, process_coords, cell_label=False, legend=True)"
     ],
     "language": "python",
     "metadata": {
      "slideshow": {
       "slide_type": "subslide"
      }
     },
     "outputs": [
      {
       "metadata": {},
       "output_type": "pyout",
       "prompt_number": 26,
       "text": [
        "<DistArray(shape=(4, 5), targets=[0, 1, 2, 3])>"
       ]
      },
      {
       "metadata": {},
       "output_type": "display_data",
       "png": "[encoded data removed]",
       "text": [
        "<matplotlib.figure.Figure at 0x10759c6d0>"
       ]
      }
     ],
     "prompt_number": 26
    },
    {
     "cell_type": "markdown",
     "metadata": {},
     "source": [
      "We can also inspect the Distribution's maps to tell us the index ranges (or bounds) for the block distributed dimension:"
     ]
    },
    {
     "cell_type": "code",
     "collapsed": false,
     "input": [
      "distribution.maps[0].bounds"
     ],
     "language": "python",
     "metadata": {
      "slideshow": {
       "slide_type": "subslide"
      }
     },
     "outputs": [
      {
       "metadata": {},
       "output_type": "pyout",
       "prompt_number": 27,
       "text": [
        "[(0, 1), (1, 2), (2, 3), (3, 4)]"
       ]
      }
     ],
     "prompt_number": 27
    },
    {
     "cell_type": "markdown",
     "metadata": {},
     "source": [
      "The Distribution above was created for us by `fromarray`,\n",
      "but DistArray lets us specify more complex distributions.\n",
      "\n",
      "Here, we specify that the 0th dimension has a Block distribution ('b')\n",
      "and the 1st dimension has a Cyclic distribution ('c').\n",
      "\n",
      "DistArray supports Block, Cyclic, Block-Cyclic, Unstructured,\n",
      "and No-distribution dimensions.  See the\n",
      "[ScaLAPACK Documentation](http://netlib.org/scalapack/slug/node75.html) for more information about Distribution types.\n",
      "\n",
      "This flexibility allows us to create an array that is block-distributed in the 0th dimension (rows) and cyclic-distributed in the 1st dimension (columns):"
     ]
    },
    {
     "cell_type": "code",
     "collapsed": false,
     "input": [
      "from distarray.globalapi import Distribution\n",
      "\n",
      "distribution = Distribution(context, shape=(64, 32), dist=('b', 'c'))\n",
      "a = context.zeros(distribution, dtype='int32')\n",
      "plot_array_distribution(a, process_coords, cell_label=False, legend=True)"
     ],
     "language": "python",
     "metadata": {
      "slideshow": {
       "slide_type": "subslide"
      }
     },
     "outputs": [
      {
       "metadata": {},
       "output_type": "pyout",
       "prompt_number": 28,
       "text": [
        "<DistArray(shape=(64, 32), targets=[0, 1, 2, 3])>"
       ]
      },
      {
       "metadata": {},
       "output_type": "display_data",
       "png": "[encoded data removed]",
       "text": [
        "<matplotlib.figure.Figure at 0x1075d29d0>"
       ]
      }
     ],
     "prompt_number": 28
    },
    {
     "cell_type": "markdown",
     "metadata": {},
     "source": [
      "Redistribution\n",
      "--------------\n",
      "\n",
      "Since `DistArray`s are distributed, the equivalent to NumPy's `reshape` (`distribute_as`) can require communication and, in general, requires communication.  When calling the `distribute_as` method, we can supply either a `shape` or a full `Distribution` object as argument.  Only Block distributions (and No-dist) are currently redistributable.\n",
      "\n",
      "As a reminder, here is how our `darr` DistArray is distributed:"
     ]
    },
    {
     "cell_type": "code",
     "collapsed": false,
     "input": [
      "darr\n",
      "plot_array_distribution(darr, process_coords, cell_label=False, legend=True)"
     ],
     "language": "python",
     "metadata": {},
     "outputs": [
      {
       "metadata": {},
       "output_type": "pyout",
       "prompt_number": 29,
       "text": [
        "<DistArray(shape=(4, 5), targets=[0, 1, 2, 3])>"
       ]
      },
      {
       "metadata": {},
       "output_type": "display_data",
       "png": "[encoded data removed]",
       "text": [
        "<matplotlib.figure.Figure at 0x107728850>"
       ]
      }
     ],
     "prompt_number": 29
    },
    {
     "cell_type": "code",
     "collapsed": false,
     "input": [
      "darr.toarray()"
     ],
     "language": "python",
     "metadata": {},
     "outputs": [
      {
       "metadata": {},
       "output_type": "pyout",
       "prompt_number": 30,
       "text": [
        "array([[  1.08e-01,   9.27e-01,   1.06e-02,   9.23e-01,   7.91e-01],\n",
        "       [  6.46e-01,   5.90e-01,   5.36e-01,   7.49e-01,   8.96e-01],\n",
        "       [  2.29e-01,   5.99e-03,   9.48e-01,   6.19e-01,   3.87e-01],\n",
        "       [  7.61e-01,   5.17e-01,   5.87e-01,   1.00e+03,   5.17e-01]])"
       ]
      }
     ],
     "prompt_number": 30
    },
    {
     "cell_type": "markdown",
     "metadata": {},
     "source": [
      "We can easily reshape `darr` by passing in a new shape to `distribute_as()`:"
     ]
    },
    {
     "cell_type": "code",
     "collapsed": false,
     "input": [
      "reshaped = darr.distribute_as((10, 2))\n",
      "plot_array_distribution(reshaped, process_coords, cell_label=False, legend=True)"
     ],
     "language": "python",
     "metadata": {},
     "outputs": [
      {
       "metadata": {},
       "output_type": "pyout",
       "prompt_number": 31,
       "text": [
        "<DistArray(shape=(10, 2), targets=[0, 1, 2, 3])>"
       ]
      },
      {
       "metadata": {},
       "output_type": "display_data",
       "png": "[encoded data removed]",
       "text": [
        "<matplotlib.figure.Figure at 0x1077dc050>"
       ]
      }
     ],
     "prompt_number": 31
    },
    {
     "cell_type": "markdown",
     "metadata": {},
     "source": [
      "Let's check the array's data to ensure everything was reshaped correctly:"
     ]
    },
    {
     "cell_type": "code",
     "collapsed": false,
     "input": [
      "reshaped.toarray()"
     ],
     "language": "python",
     "metadata": {},
     "outputs": [
      {
       "metadata": {},
       "output_type": "pyout",
       "prompt_number": 32,
       "text": [
        "array([[  1.08e-01,   9.27e-01],\n",
        "       [  1.06e-02,   9.23e-01],\n",
        "       [  7.91e-01,   6.46e-01],\n",
        "       [  5.90e-01,   5.36e-01],\n",
        "       [  7.49e-01,   8.96e-01],\n",
        "       [  2.29e-01,   5.99e-03],\n",
        "       [  9.48e-01,   6.19e-01],\n",
        "       [  3.87e-01,   7.61e-01],\n",
        "       [  5.17e-01,   5.87e-01],\n",
        "       [  1.00e+03,   5.17e-01]])"
       ]
      }
     ],
     "prompt_number": 32
    },
    {
     "cell_type": "markdown",
     "metadata": {},
     "source": [
      "We can reshape to an arbitrary Distribution by passing in a Distribution object to `distribute_as()`.  For instance, we can create a new DistArray with a different shape, distribution type (block-block), and distribute on different targets:"
     ]
    },
    {
     "cell_type": "code",
     "collapsed": false,
     "input": [
      "dist = Distribution(context, shape=(5, 4),\n",
      "                    dist=('b', 'b'),\n",
      "                    targets=(1, 3))\n",
      "reshaped = darr.distribute_as(dist)\n",
      "plot_array_distribution(reshaped, process_coords, cell_label=False, legend=True)"
     ],
     "language": "python",
     "metadata": {},
     "outputs": [
      {
       "metadata": {},
       "output_type": "pyout",
       "prompt_number": 33,
       "text": [
        "<DistArray(shape=(5, 4), targets=[1, 3])>"
       ]
      },
      {
       "metadata": {},
       "output_type": "display_data",
       "png": "[encoded data removed]",
       "text": [
        "<matplotlib.figure.Figure at 0x1075b2690>"
       ]
      }
     ],
     "prompt_number": 33
    },
    {
     "cell_type": "markdown",
     "metadata": {
      "slideshow": {
       "slide_type": "slide"
      }
     },
     "source": [
      "Contexts\n",
      "--------\n",
      "Context objects manage the setup of and communication to the worker processes for DistArray objects.  They also act as the namespace to which\n",
      "DistArray creation functions are attached."
     ]
    },
    {
     "cell_type": "code",
     "collapsed": false,
     "input": [
      "print(\"targets:\", context.targets)\n",
      "print(\"comm:\", context.comm)"
     ],
     "language": "python",
     "metadata": {
      "slideshow": {
       "slide_type": "subslide"
      }
     },
     "outputs": [
      {
       "output_type": "stream",
       "stream": "stdout",
       "text": [
        "targets: [0, 1, 2, 3]\n",
        "comm: <distarray.localapi.proxyize.Proxy object at 0x107557d10>\n"
       ]
      }
     ],
     "prompt_number": 34
    },
    {
     "cell_type": "markdown",
     "metadata": {},
     "source": [
      "Contexts are the primary way to create new DistArrays, and provide the familiar `zeros`, `ones`, and `empty` creation callables:"
     ]
    },
    {
     "cell_type": "code",
     "collapsed": false,
     "input": [
      "context.zeros((5, 3))"
     ],
     "language": "python",
     "metadata": {},
     "outputs": [
      {
       "metadata": {},
       "output_type": "pyout",
       "prompt_number": 35,
       "text": [
        "<DistArray(shape=(5, 3), targets=[0, 1, 2])>"
       ]
      }
     ],
     "prompt_number": 35
    },
    {
     "cell_type": "code",
     "collapsed": false,
     "input": [
      "context.ones((20, 20))"
     ],
     "language": "python",
     "metadata": {},
     "outputs": [
      {
       "metadata": {},
       "output_type": "pyout",
       "prompt_number": 36,
       "text": [
        "<DistArray(shape=(20, 20), targets=[0, 1, 2, 3])>"
       ]
      }
     ],
     "prompt_number": 36
    },
    {
     "cell_type": "markdown",
     "metadata": {
      "slideshow": {
       "slide_type": "slide"
      }
     },
     "source": [
      "Parallel IO\n",
      "-----------\n",
      "\n",
      "DistArray has support for reading NumPy `.npy` files in parallel, for reading *and* writing `.dnpy` files in parallel (our own flat-file format), and reading and writing HDF5 files in parallel (if you have a parallel build of `h5py`).\n",
      "\n",
      "Let's start with loading a standard `.npy` file in parallel using `Context.load_npy`:"
     ]
    },
    {
     "cell_type": "code",
     "collapsed": false,
     "input": [
      "numpy.save(\"/tmp/outfile.npy\", nparr)\n",
      "distribution = Distribution(context, nparr.shape) \n",
      "new_darr = context.load_npy(\"/tmp/outfile.npy\", distribution)\n",
      "new_darr"
     ],
     "language": "python",
     "metadata": {
      "slideshow": {
       "slide_type": "subslide"
      }
     },
     "outputs": [
      {
       "metadata": {},
       "output_type": "pyout",
       "prompt_number": 37,
       "text": [
        "<DistArray(shape=(4, 5), targets=[0, 1, 2, 3])>"
       ]
      }
     ],
     "prompt_number": 37
    },
    {
     "cell_type": "markdown",
     "metadata": {},
     "source": [
      "We can write our DistArray to a simple DistArray `.dnpy` formatted file:"
     ]
    },
    {
     "cell_type": "code",
     "collapsed": false,
     "input": [
      "context.save_dnpy(\"/tmp/outfile\", darr)"
     ],
     "language": "python",
     "metadata": {
      "slideshow": {
       "slide_type": "subslide"
      }
     },
     "outputs": [],
     "prompt_number": 38
    },
    {
     "cell_type": "markdown",
     "metadata": {},
     "source": [
      "We can, of course, read `.dnpy` files as well:"
     ]
    },
    {
     "cell_type": "code",
     "collapsed": false,
     "input": [
      "context.load_dnpy(\"/tmp/outfile\")"
     ],
     "language": "python",
     "metadata": {
      "slideshow": {
       "slide_type": "subslide"
      }
     },
     "outputs": [
      {
       "metadata": {},
       "output_type": "pyout",
       "prompt_number": 39,
       "text": [
        "<DistArray(shape=(4, 5), targets=[0, 1, 2, 3])>"
       ]
      }
     ],
     "prompt_number": 39
    },
    {
     "cell_type": "markdown",
     "metadata": {},
     "source": [
      "If the `h5py` package is available and built with MPI support, we can use `Context.save_hdf5()` to save a DistArray to an HDF5 file in parallel:"
     ]
    },
    {
     "cell_type": "code",
     "collapsed": false,
     "input": [
      "context.save_hdf5(\"/tmp/outfile.hdf5\", darr, mode='w')"
     ],
     "language": "python",
     "metadata": {
      "slideshow": {
       "slide_type": "subslide"
      }
     },
     "outputs": [],
     "prompt_number": 40
    },
    {
     "cell_type": "markdown",
     "metadata": {},
     "source": [
      "Loading from HDF5 in parallel is also supported with the right dependencies in place:"
     ]
    },
    {
     "cell_type": "code",
     "collapsed": true,
     "input": [
      "context.load_hdf5(\"/tmp/outfile.hdf5\", distribution)"
     ],
     "language": "python",
     "metadata": {
      "slideshow": {
       "slide_type": "subslide"
      }
     },
     "outputs": [
      {
       "metadata": {},
       "output_type": "pyout",
       "prompt_number": 41,
       "text": [
        "<DistArray(shape=(4, 5), targets=[0, 1, 2, 3])>"
       ]
      }
     ],
     "prompt_number": 41
    },
    {
     "cell_type": "markdown",
     "metadata": {
      "slideshow": {
       "slide_type": "slide"
      }
     },
     "source": [
      "Context.apply\n",
      "-------------\n",
      "\n",
      "Global view, local control.  The `apply` method on a `Context` allows you to write functions that are applied *locally* (that is, on the engines) to each section of a DistArray.  This allows you to push your computation close to your data, avoiding communication round-trips and possibly speeding up your computations.  The `Context.apply()` method is currently the primary way to communicate with the engines and access data locally."
     ]
    },
    {
     "cell_type": "code",
     "collapsed": false,
     "input": [
      "def get_local_random():\n",
      "    \"\"\"Function to be applied locally.\"\"\"\n",
      "    import numpy\n",
      "    return numpy.random.randint(10)\n",
      "\n",
      "context.apply(get_local_random)"
     ],
     "language": "python",
     "metadata": {
      "slideshow": {
       "slide_type": "subslide"
      }
     },
     "outputs": [
      {
       "metadata": {},
       "output_type": "pyout",
       "prompt_number": 42,
       "text": [
        "[7, 5, 5, 7]"
       ]
      }
     ],
     "prompt_number": 42
    },
    {
     "cell_type": "code",
     "collapsed": false,
     "input": [
      "def get_local_var(darr):\n",
      "    \"\"\"Another local computation.\"\"\"\n",
      "    return darr.ndarray.var()\n",
      "\n",
      "context.apply(get_local_var, args=(darr.key,))"
     ],
     "language": "python",
     "metadata": {
      "slideshow": {
       "slide_type": "subslide"
      }
     },
     "outputs": [
      {
       "metadata": {},
       "output_type": "pyout",
       "prompt_number": 43,
       "text": [
        "[0.16506734015763661,\n",
        " 0.016296200984981156,\n",
        " 0.10508749329915838,\n",
        " 159809.48451318097]"
       ]
      }
     ],
     "prompt_number": 43
    },
    {
     "cell_type": "markdown",
     "metadata": {},
     "source": [
      "Context.register\n",
      "----------------\n",
      "\n",
      "`Context.register` is similar to `Context.apply`, but it allows you to *register* your function with a `Context` up front, and then call it repeatedly, with a nice syntax."
     ]
    },
    {
     "cell_type": "code",
     "collapsed": false,
     "input": [
      "def local_demean(la):\n",
      "    \"\"\"Return the local array with the mean removed.\"\"\"\n",
      "    return la.ndarray - la.ndarray.mean()\n",
      "context.register(local_demean)"
     ],
     "language": "python",
     "metadata": {},
     "outputs": [],
     "prompt_number": 44
    },
    {
     "cell_type": "code",
     "collapsed": false,
     "input": [
      "context.local_demean(darr)"
     ],
     "language": "python",
     "metadata": {},
     "outputs": [
      {
       "metadata": {},
       "output_type": "pyout",
       "prompt_number": 45,
       "text": [
        "[array([[-0.44,  0.38, -0.54,  0.37,  0.24]]),\n",
        " array([[-0.04, -0.09, -0.15,  0.07,  0.21]]),\n",
        " array([[-0.21, -0.43,  0.51,  0.18, -0.05]]),\n",
        " array([[-199.72, -199.96, -199.89,  799.52, -199.96]])]"
       ]
      }
     ],
     "prompt_number": 45
    },
    {
     "cell_type": "markdown",
     "metadata": {},
     "source": [
      "MPI-only Execution\n",
      "-------------------------"
     ]
    },
    {
     "cell_type": "markdown",
     "metadata": {},
     "source": [
      "Instead of using an IPython client (which uses ZeroMQ to communicate to the engines), you can run your DistArray code in MPI-only mode (using an extra MPI process for the client).  This can be more performant.\n",
      "\n",
      "DistArray comes with a simple example computing the Julia set in parallel using DistArrays.  It lives in the `julia_set` subdirectory, and the main entry point is the `benchmark_julia.py` script:"
     ]
    },
    {
     "cell_type": "code",
     "collapsed": false,
     "input": [
      "!python julia_set/benchmark_julia.py -h"
     ],
     "language": "python",
     "metadata": {},
     "outputs": [
      {
       "output_type": "stream",
       "stream": "stdout",
       "text": [
        "usage: benchmark_julia.py [-h] [-r REPEAT_COUNT] [-o OUTPUT_FILENAME] [-k {fancy,numpy,cython}] [-s {strong,weak}] N [N ...]\r\n",
        "\r\n",
        "Calculate some Julia sets using DistArray and measure the performance. The Julia set, for a given complex number $c$, is the set of points $z$ such that $|z_{i}|$ remains bounded\r\n",
        "where $z_{i+1} = z_{i}^2 + c$. This can be plotted by counting how many iterations are required for $|z_{i}|$ to exceed a cutoff. Depending on the value of $c$, the Julia set may\r\n",
        "be connected and contain a lot of points, or it could be disconnected and contain fewer points. The points in the set will require the maximum iteration count, so the connected\r\n",
        "sets will usually take longer to compute.\r\n",
        "\r\n",
        "positional arguments:\r\n",
        "  N                     resolutions of the Julia set to benchmark (NxN)\r\n",
        "\r\n",
        "optional arguments:\r\n",
        "  -h, --help            show this help message and exit\r\n",
        "  -r REPEAT_COUNT, --repeat REPEAT_COUNT\r\n",
        "                        number of repetitions of each unique parameter set, default: 3\r\n",
        "  -o OUTPUT_FILENAME, --output-filename OUTPUT_FILENAME\r\n",
        "                        filename to write the json data to.\r\n",
        "  -k {fancy,numpy,cython}, --kernel {fancy,numpy,cython}\r\n",
        "                        kernel to use for computation. Options are 'fancy', 'numpy', or 'cython'.\r\n",
        "  -s {strong,weak}, --scaling {strong,weak}\r\n",
        "                        Kind of scaling test. Options are 'strong' or 'weak'\r\n"
       ]
      }
     ],
     "prompt_number": 46
    },
    {
     "cell_type": "code",
     "collapsed": false,
     "input": [
      "# Run the benchmarking script with 5 MPI processes:\n",
      "# 4 worker processes and 1 client process\n",
      "!mpiexec -np 5 python julia_set/benchmark_julia.py --kernel=cython -r1 1024"
     ],
     "language": "python",
     "metadata": {},
     "outputs": [
      {
       "output_type": "stream",
       "stream": "stdout",
       "text": [
        "(n/n_runs: time) ('Start', 'End', 'Dist', 'Resolution', 'c', 'Engines', 'Iters')\r\n"
       ]
      },
      {
       "output_type": "stream",
       "stream": "stdout",
       "text": [
        "(1/17: 0.227s) (1410984309.706987, 1410984309.934367, 'numpy', 1024, '(-0.045+0.45j)', 1, [32763832L])\r\n"
       ]
      },
      {
       "output_type": "stream",
       "stream": "stdout",
       "text": [
        "(2/17: 0.233s) (1410984309.943014, 1410984310.175864, 'b-n', 1024, '(-0.045+0.45j)', 1, [32763832L])\r\n"
       ]
      },
      {
       "output_type": "stream",
       "stream": "stdout",
       "text": [
        "(3/17: 0.231s) (1410984310.184168, 1410984310.415634, 'c-n', 1024, '(-0.045+0.45j)', 1, [32763832L])\r\n"
       ]
      },
      {
       "output_type": "stream",
       "stream": "stdout",
       "text": [
        "(4/17: 0.234s) (1410984310.423076, 1410984310.656983, 'b-b', 1024, '(-0.045+0.45j)', 1, [32763832L])\r\n"
       ]
      },
      {
       "output_type": "stream",
       "stream": "stdout",
       "text": [
        "(5/17: 0.232s) (1410984310.664703, 1410984310.896547, 'c-c', 1024, '(-0.045+0.45j)', 1, [32763832L])\r\n"
       ]
      },
      {
       "output_type": "stream",
       "stream": "stdout",
       "text": [
        "(6/17: 0.117s) (1410984310.906701, 1410984311.024008, 'b-n', 1024, '(-0.045+0.45j)', 2, [16345977L, 16417855L])\r\n"
       ]
      },
      {
       "output_type": "stream",
       "stream": "stdout",
       "text": [
        "(7/17: 0.115s) (1410984311.031092, 1410984311.146362, 'c-n', 1024, '(-0.045+0.45j)', 2, [16382826L, 16381006L])\r\n"
       ]
      },
      {
       "output_type": "stream",
       "stream": "stdout",
       "text": [
        "(8/17: 0.114s) (1410984311.151534, 1410984311.265501, 'b-b', 1024, '(-0.045+0.45j)', 2, [16354361L, 16409471L])\r\n"
       ]
      },
      {
       "output_type": "stream",
       "stream": "stdout",
       "text": [
        "(9/17: 0.115s) (1410984311.270891, 1410984311.386169, 'c-c', 1024, '(-0.045+0.45j)', 2, [16384932L, 16378900L])\r\n"
       ]
      },
      {
       "output_type": "stream",
       "stream": "stdout",
       "text": [
        "(10/17: 0.152s) (1410984311.394735, 1410984311.546448, 'b-n', 1024, '(-0.045+0.45j)', 3, [6243924L, 20326746L, 6193162L])\r\n"
       ]
      },
      {
       "output_type": "stream",
       "stream": "stdout",
       "text": [
        "(11/17: 0.079s) (1410984311.553548, 1410984311.632755, 'c-n', 1024, '(-0.045+0.45j)', 3, [10922548L, 10921645L, 10919639L])\r\n"
       ]
      },
      {
       "output_type": "stream",
       "stream": "stdout",
       "text": [
        "(12/17: 0.132s) (1410984311.637174, 1410984311.768882, 'b-b', 1024, '(-0.045+0.45j)', 3, [6779920L, 19264315L, 6719597L])\r\n"
       ]
      },
      {
       "output_type": "stream",
       "stream": "stdout",
       "text": [
        "(13/17: 0.080s) (1410984311.773285, 1410984311.852886, 'c-c', 1024, '(-0.045+0.45j)', 3, [10921355L, 10920452L, 10922025L])\r\n"
       ]
      },
      {
       "output_type": "stream",
       "stream": "stdout",
       "text": [
        "(14/17: 0.097s) (1410984311.860106, 1410984311.957074, 'b-n', 1024, '(-0.045+0.45j)', 4, [2725843L, 13620134L, 13659620L, 2758235L])\r\n"
       ]
      },
      {
       "output_type": "stream",
       "stream": "stdout",
       "text": [
        "(15/17: 0.066s) (1410984311.962991, 1410984312.029156, 'c-n', 1024, '(-0.045+0.45j)', 4, [8190582L, 8190503L, 8192244L, 8190503L])\r\n"
       ]
      },
      {
       "output_type": "stream",
       "stream": "stdout",
       "text": [
        "(16/17: 0.079s) (1410984312.035546, 1410984312.114083, 'b-b', 1024, '(-0.045+0.45j)', 4, [5859333L, 10486644L, 10495028L, 5922827L])\r\n"
       ]
      },
      {
       "output_type": "stream",
       "stream": "stdout",
       "text": [
        "(17/17: 0.067s) (1410984312.118542, 1410984312.185411, 'c-c', 1024, '(-0.045+0.45j)', 4, [8193330L, 8189496L, 8191602L, 8189404L])\r\n"
       ]
      }
     ],
     "prompt_number": 47
    },
    {
     "cell_type": "markdown",
     "metadata": {
      "slideshow": {
       "slide_type": "slide"
      }
     },
     "source": [
      "Distributed Array Protocol\n",
      "--------------------------\n",
      "\n",
      "Already have a library with its own distributed arrays?  Use the Distributed Array Protocol to work with DistArray.\n",
      "\n",
      "The Distributed Array Protocol (DAP) is a process-local protocol that allows two subscribers, called the \"producer\" and the \"consumer\" or the \"exporter\" and the \"importer\", to communicate the essential data and metadata necessary to share a distributed-memory array between them. This allows two independently developed components to access, modify, and update a distributed array without copying. The protocol formalizes the metadata and buffers involved in the transfer, allowing several distributed array projects to collaborate, facilitating interoperability. By not copying the underlying array data, the protocol allows for efficient sharing of array data.\n",
      "\n",
      "http://distributed-array-protocol.readthedocs.org/en/rel-0.9.0/"
     ]
    },
    {
     "cell_type": "code",
     "collapsed": false,
     "input": [
      "def return_protocol_structure(la):\n",
      "    return la.__distarray__()\n",
      "\n",
      "context.apply(return_protocol_structure, (darr.key,))"
     ],
     "language": "python",
     "metadata": {
      "slideshow": {
       "slide_type": "subslide"
      }
     },
     "outputs": [
      {
       "metadata": {},
       "output_type": "pyout",
       "prompt_number": 48,
       "text": [
        "[{'__version__': '0.10.0',\n",
        "  'buffer': array([[ 0.11,  0.93,  0.01,  0.92,  0.79]]),\n",
        "  'dim_data': ({'dist_type': 'b',\n",
        "    'proc_grid_rank': 0,\n",
        "    'proc_grid_size': 4,\n",
        "    'size': 4,\n",
        "    'start': 0,\n",
        "    'stop': 1},\n",
        "   {'dist_type': 'b',\n",
        "    'proc_grid_rank': 0,\n",
        "    'proc_grid_size': 1,\n",
        "    'size': 5,\n",
        "    'start': 0,\n",
        "    'stop': 5})},\n",
        " {'__version__': '0.10.0',\n",
        "  'buffer': array([[ 0.65,  0.59,  0.54,  0.75,  0.9 ]]),\n",
        "  'dim_data': ({'dist_type': 'b',\n",
        "    'proc_grid_rank': 1,\n",
        "    'proc_grid_size': 4,\n",
        "    'size': 4,\n",
        "    'start': 1,\n",
        "    'stop': 2},\n",
        "   {'dist_type': 'b',\n",
        "    'proc_grid_rank': 0,\n",
        "    'proc_grid_size': 1,\n",
        "    'size': 5,\n",
        "    'start': 0,\n",
        "    'stop': 5})},\n",
        " {'__version__': '0.10.0',\n",
        "  'buffer': array([[ 0.23,  0.01,  0.95,  0.62,  0.39]]),\n",
        "  'dim_data': ({'dist_type': 'b',\n",
        "    'proc_grid_rank': 2,\n",
        "    'proc_grid_size': 4,\n",
        "    'size': 4,\n",
        "    'start': 2,\n",
        "    'stop': 3},\n",
        "   {'dist_type': 'b',\n",
        "    'proc_grid_rank': 0,\n",
        "    'proc_grid_size': 1,\n",
        "    'size': 5,\n",
        "    'start': 0,\n",
        "    'stop': 5})},\n",
        " {'__version__': '0.10.0',\n",
        "  'buffer': array([[  7.61e-01,   5.17e-01,   5.87e-01,   1.00e+03,   5.17e-01]]),\n",
        "  'dim_data': ({'dist_type': 'b',\n",
        "    'proc_grid_rank': 3,\n",
        "    'proc_grid_size': 4,\n",
        "    'size': 4,\n",
        "    'start': 3,\n",
        "    'stop': 4},\n",
        "   {'dist_type': 'b',\n",
        "    'proc_grid_rank': 0,\n",
        "    'proc_grid_size': 1,\n",
        "    'size': 5,\n",
        "    'start': 0,\n",
        "    'stop': 5})}]"
       ]
      }
     ],
     "prompt_number": 48
    },
    {
     "cell_type": "markdown",
     "metadata": {},
     "source": [
      "Acknowledgement and Disclaimer\n",
      "------------------------------\n",
      "\n",
      "This material is based upon work supported by the Department of Energy under Award Number DE-SC0007699.\n",
      "\n",
      "This report was prepared as an account of work sponsored by an agency of the United States Government. Neither the United States Government nor any agency thereof, nor any of their employees, makes any warranty, express or implied, or assumes any legal liability or responsibility for the accuracy, completeness, or usefulness of any information, apparatus, product, or process disclosed, or represents that its use would not infringe privately owned rights. Reference herein to any specific commercial product, process, or service by trade name, trademark, manufacturer, or otherwise does not necessarily constitute or imply its endorsement, recommendation, or favoring by the United States Government or any agency thereof. The views and opinions of authors expressed herein do not necessarily state or reflect those of the United States Government or any agency thereof. "
     ]
    }
   ],
   "metadata": {}
  }
 ]
}