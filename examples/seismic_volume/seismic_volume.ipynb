{
 "metadata": {
  "name": "",
  "signature": "sha256:8838634110fec1297dad1282b28f70967483d4e981446d6a60a2c64dad44d536"
 },
 "nbformat": 3,
 "nbformat_minor": 0,
 "worksheets": [
  {
   "cells": [
    {
     "cell_type": "markdown",
     "metadata": {},
     "source": [
      "DistArray Example: Seismic Volume\n",
      "---------------------------------\n",
      "To illustrate some of the things that we can do with DistArray, we provide an example with a simulated 3D seismic volume."
     ]
    },
    {
     "cell_type": "markdown",
     "metadata": {},
     "source": [
      "Start a cluster\n",
      "---------------\n",
      "This example requires an `IPython.parallel` cluster to be running.\n",
      "Outside the notebook, run\n",
      "```\n",
      "dacluster start -n4\n",
      "```"
     ]
    },
    {
     "cell_type": "markdown",
     "metadata": {},
     "source": [
      "Preliminaries\n",
      "-------------\n",
      "We will start off by importing some things that we will use, and also enable inline matplotlib plotting."
     ]
    },
    {
     "cell_type": "code",
     "collapsed": false,
     "input": [
      "from __future__ import print_function\n",
      "\n",
      "%matplotlib inline\n",
      "\n",
      "from six.moves import range\n",
      "\n",
      "from distarray.globalapi import Context, Distribution\n",
      "from distarray.globalapi.distarray import DistArray\n",
      "\n",
      "from numpy import linspace, float32\n",
      "from matplotlib import pyplot"
     ],
     "language": "python",
     "metadata": {},
     "outputs": [],
     "prompt_number": 1
    },
    {
     "cell_type": "markdown",
     "metadata": {},
     "source": [
      "Create a volume\n",
      "---------------\n",
      "First we create a DistArray of the desired size for the seismic volume.  To start, we fill it with zeros.\n",
      "\n",
      "We need to specify a Context, the array size, and the distribution of the array across the available processes.  We will use the block distribution for the x and y axes (which will partition these axes across the engines) and *not* distribute the z axis (so each trace, or z slice, will be on a single process)."
     ]
    },
    {
     "cell_type": "code",
     "collapsed": false,
     "input": [
      "def create_empty_volume(context, dist, shape):\n",
      "    \"\"\"Create an empty seismic volume.\"\"\"\n",
      "    if len(shape) != 3:\n",
      "        raise ValueError('Volume shape must be 3D.')\n",
      "    print('Creating volume array %d x %d x %d...' % (\n",
      "        shape[0], shape[1], shape[2]))\n",
      "    distribution = Distribution(context, shape, dist=dist)\n",
      "    da = context.zeros(distribution, dtype=float32)\n",
      "    return da\n",
      "\n",
      "# Create a DistArray context.\n",
      "context = Context()\n",
      "\n",
      "# Dimensions of volume array.\n",
      "VOLUME_SHAPE = (256, 256, 1024)\n",
      "\n",
      "# Physical size of volume.\n",
      "VOLUME_SIZE = (10.0, 10.0, 20.0)\n",
      "\n",
      "# Array distribution for volume.\n",
      "VOLUME_DISTRIBUTION = ('b', 'b', 'n')\n",
      "\n",
      "seismic_volume = create_empty_volume(context, VOLUME_DISTRIBUTION, VOLUME_SHAPE)\n",
      "print(seismic_volume)"
     ],
     "language": "python",
     "metadata": {},
     "outputs": [
      {
       "output_type": "stream",
       "stream": "stdout",
       "text": [
        "Creating volume array 256 x 256 x 1024...\n",
        "<DistArray(shape=(256, 256, 1024), targets=[0, 1, 2, 3])>\n"
       ]
      }
     ],
     "prompt_number": 2
    },
    {
     "cell_type": "markdown",
     "metadata": {},
     "source": [
      "We also need to know the physical positions of each array element, so lets calculate those as well."
     ]
    },
    {
     "cell_type": "code",
     "collapsed": false,
     "input": [
      "physical_x = linspace(0.0, VOLUME_SIZE[0], VOLUME_SHAPE[0])\n",
      "physical_y = linspace(0.0, VOLUME_SIZE[1], VOLUME_SHAPE[1])\n",
      "physical_z = linspace(0.0, VOLUME_SIZE[2], VOLUME_SHAPE[2])"
     ],
     "language": "python",
     "metadata": {},
     "outputs": [],
     "prompt_number": 3
    },
    {
     "cell_type": "markdown",
     "metadata": {},
     "source": [
      "Creating horizons\n",
      "-----------------\n",
      "Now we fill the volume with some interesting data to process.  To make this similar to a real seismic volume, we construct this in terms of 'horizons', which are 2D surfaces inside the volume.  The data values in the volume will change as we pass down through the horizons.  To make it simple, we use plane surfaces as the horizons here.  We also attach some parameters to the horizons which control how the seismic data changes as we pass through the horizons.  Our horizons will use the x and y dimensions and distribution of the full 3D array.\n",
      "\n",
      "To properly calculate the depth at each point, we need the physical x and y coordinates of the array element.  These are passed into the outer function, and for each local calculation, we extract the values corresponding to each local array."
     ]
    },
    {
     "cell_type": "code",
     "collapsed": false,
     "input": [
      "def local_create_horizon(horizon_la, physical_x, physical_y, normal, D):\n",
      "    \"\"\"Get the horizon surface, which is a plane.\"\"\"\n",
      "\n",
      "    def plane(x, y, normal, D):\n",
      "        \"\"\"Get the depth on the plane at the x and y coordinates.\"\"\"\n",
      "        from math import sqrt\n",
      "        nx, ny, nz = normal\n",
      "        nmag = sqrt(nx * nx + ny * ny + nz * nz)\n",
      "        nx, ny, nz = nx / nmag, ny / nmag, nz / nmag\n",
      "        z0 = (D - nx * x - ny * y) / nz\n",
      "        return z0\n",
      "\n",
      "    def create_horizon(horizon, physical_xy, normal, D):\n",
      "        \"\"\"Create the horizon plane.\"\"\"\n",
      "        shape = horizon.shape\n",
      "        if len(shape) != 2:\n",
      "            raise ValueError('Horizon shape must be 2D.')\n",
      "        for i in range(shape[0]):\n",
      "            for j in range(shape[1]):\n",
      "                x = physical_xy[i, j, 0]\n",
      "                y = physical_xy[i, j, 1]\n",
      "                horizon[i, j] = plane(x, y, normal, D)\n",
      "\n",
      "    from distarray.localapi import LocalArray\n",
      "    horizon = horizon_la.ndarray\n",
      "    shape = horizon.shape\n",
      "    # Get physical x and y values in an array the same shape as the horizon.\n",
      "    physical_xy = numpy.empty((shape[0], shape[1], 2))\n",
      "    for i in range(shape[0]):\n",
      "        for j in range(shape[1]):\n",
      "            gi, gj = horizon_la.global_from_local((i, j))\n",
      "            physical_xy[i, j, 0] = physical_x[gi]\n",
      "            physical_xy[i, j, 1] = physical_y[gj]\n",
      "    create_horizon(horizon, physical_xy, normal, D)\n",
      "    res = LocalArray(horizon_la.distribution, buf=horizon)\n",
      "    rtn = proxyize(res)\n",
      "    return rtn\n",
      "\n",
      "def create_distarray_horizon(context, shape, physical_x, physical_y, normal, D):\n",
      "    \"\"\"Create a horizon as a 2D DistArray.\"\"\"\n",
      "    horizon_dist = (VOLUME_DISTRIBUTION[0], VOLUME_DISTRIBUTION[1])\n",
      "    distribution = Distribution(context, shape, dist=horizon_dist)\n",
      "    horizon = DistArray(distribution, dtype=float32)\n",
      "    context.apply(local_create_horizon,\n",
      "                  (horizon.key, physical_x, physical_y, normal, D))\n",
      "    return horizon\n",
      "\n",
      "def create_horizons(volume, physical_x, physical_y):\n",
      "    \"\"\"Create some horizons appropriate for the seismic volume.\n",
      "\n",
      "    We describe the plane surface with a normal and a constant,\n",
      "    and also provide some parameters to use later.\n",
      "    \"\"\"\n",
      "    context = volume.context\n",
      "    shape = (volume.shape[0], volume.shape[1])\n",
      "    normal_1, D_1, params_1 = (\n",
      "        (0.1, -0.2, 1.0), 10.0, (100.0, 40.0, 1.25, 0.1))\n",
      "    normal_2, D_2, params_2 = (\n",
      "        (0.4, 0.1, 1.0), 15.0, (25.0, 15.0, 1.25, 0.7))\n",
      "    horizon_1 = create_distarray_horizon(context, shape,\n",
      "                                         physical_x, physical_y,\n",
      "                                         normal_1, D_1)\n",
      "    horizon_2 = create_distarray_horizon(context, shape,\n",
      "                                         physical_x, physical_y,\n",
      "                                         normal_2, D_2)\n",
      "    rtn = [(horizon_1, params_1), (horizon_2, params_2)]\n",
      "    return rtn\n",
      "\n",
      "# Now create the horizons.\n",
      "print('Creating horizons...')\n",
      "horizons = create_horizons(seismic_volume, physical_x, physical_y)\n",
      "print(horizons)"
     ],
     "language": "python",
     "metadata": {},
     "outputs": [
      {
       "output_type": "stream",
       "stream": "stdout",
       "text": [
        "Creating horizons...\n",
        "[(<DistArray(shape=(256, 256), targets=[0, 1, 2, 3])>, (100.0, 40.0, 1.25, 0.1)), (<DistArray(shape=(256, 256), targets=[0, 1, 2, 3])>, (25.0, 15.0, 1.25, 0.7))]"
       ]
      },
      {
       "output_type": "stream",
       "stream": "stdout",
       "text": [
        "\n"
       ]
      }
     ],
     "prompt_number": 4
    },
    {
     "cell_type": "markdown",
     "metadata": {},
     "source": [
      "Filling the array\n",
      "-----------------\n",
      "Now we need to use these horizons to fill the seismic volume with data.  For each trace, which is a column in the array with constant x and y, we add values to the volume, based on how far the depth of the array element is from the horizon surface.  For this example, we add a Gaussian peak at the horizon depth and also use a hyperbolic tangent to act as a smooth step-like function, which will change values as we pass through the horizon.  We use the extra parameters we calculated earlier for each horizon to control the specific numerical values."
     ]
    },
    {
     "cell_type": "code",
     "collapsed": false,
     "input": [
      "def local_add_horizon(volume_la, horizon_la, z, horizon_params):\n",
      "    \"\"\"Update the volume to change as one passes through the horizon.\"\"\"\n",
      "\n",
      "    def horizon_function(z, z0, A=100.0, B=40.0, C=2.5, mu=0.1):\n",
      "        \"\"\"A hopefully interesting looking function of depth z.\n",
      "\n",
      "        Gaussian, with a step-like function past the gaussian peak.\n",
      "        The peak is at depth z=z0.\n",
      "        \"\"\"\n",
      "        from numpy import exp, tanh\n",
      "        u = mu * (z - z0) ** 2\n",
      "        v = mu * (z - z0)\n",
      "        # Combine Gaussian, hyperbolic tangent, and constant.\n",
      "        # The hyperbolic tangent serves as a smooth step.\n",
      "        r = A * exp(-u) + B * tanh(v) + C\n",
      "        return r\n",
      "\n",
      "    def add_horizon(vol, hor, z, horizon_params):\n",
      "        \"\"\"Add the effect of a horizon to the seismic volume data.\"\"\"\n",
      "        shape = hor.shape\n",
      "        A, B, C, mu = horizon_params\n",
      "        for i in range(shape[0]):\n",
      "            for j in range(shape[1]):\n",
      "                z0 = hor[i, j]\n",
      "                vol[i, j, :] += horizon_function(z, z0, A=A, B=B, C=C, mu=mu)\n",
      "        return vol\n",
      "\n",
      "    vol = volume_la.ndarray\n",
      "    hor = horizon_la.ndarray\n",
      "    add_horizon(vol, hor, z, horizon_params)\n",
      "    return volume_la"
     ],
     "language": "python",
     "metadata": {},
     "outputs": [],
     "prompt_number": 5
    },
    {
     "cell_type": "markdown",
     "metadata": {},
     "source": [
      "Add some randomness\n",
      "-------------------\n",
      "Finally, we add some random noise to the data."
     ]
    },
    {
     "cell_type": "code",
     "collapsed": false,
     "input": [
      "def local_add_random(volume_la):\n",
      "    \"\"\"Add randomness to the local array.\"\"\"\n",
      "\n",
      "    def add_random(vol, R):\n",
      "        shape = vol.shape\n",
      "        rnd = numpy.random.randn(*shape)\n",
      "        vol[:, :, :] += R * rnd\n",
      "\n",
      "    vol = volume_la.ndarray\n",
      "    add_random(vol, R=2.0)\n",
      "    return volume_la"
     ],
     "language": "python",
     "metadata": {},
     "outputs": []
    },
    {
     "cell_type": "markdown",
     "metadata": {},
     "source": [
      "Now we put all this together and fill our seismic volume with data."
     ]
    },
    {
     "cell_type": "code",
     "collapsed": false,
     "input": [
      "def fill_volume(volume, horizons):\n",
      "    \"\"\"Fill the seismic volume with some interesting structure.\"\"\"\n",
      "    context = volume.context\n",
      "    shape = volume.shape\n",
      "    if len(shape) != 3:\n",
      "        raise ValueError('Volume shape must be 3D.')\n",
      "    # Add data for each horizon...\n",
      "    for ih, horizon_data in enumerate(horizons):\n",
      "        print('Applying horizon %d...' % (ih + 1))\n",
      "        horizon, horizon_params = horizon_data\n",
      "        context.apply(local_add_horizon,\n",
      "                      (volume.key, horizon.key, physical_z, horizon_params))\n",
      "    # Add global randomness.\n",
      "    print('Adding randomness...')\n",
      "    context.apply(local_add_random, (volume.key,))\n",
      "    print('Done.')\n",
      "    \n",
      "fill_volume(seismic_volume, horizons)\n",
      "print(seismic_volume)"
     ],
     "language": "python",
     "metadata": {},
     "outputs": [
      {
       "output_type": "stream",
       "stream": "stdout",
       "text": [
        "Applying horizon 1...\n",
        "Applying horizon 2..."
       ]
      },
      {
       "output_type": "stream",
       "stream": "stdout",
       "text": [
        "\n",
        "Adding randomness..."
       ]
      }
     ]
    },
    {
     "cell_type": "markdown",
     "metadata": {},
     "source": [
      "Plotting arrays\n",
      "---------------\n",
      "We want to do something interesting with our seismic volume, so let's start by making plots of 2D sections.  We can't pass DistArrays directly to matplotlib, so we will convert them to normal NumPy arrays for this."
     ]
    },
    {
     "cell_type": "code",
     "collapsed": false,
     "input": [
      "def plot_ndarray(ndarray, title, x_label, y_label):\n",
      "    \"\"\"Plot a 2D numpy array.\"\"\"\n",
      "    num_dim = len(ndarray.shape)\n",
      "    if (num_dim != 2):\n",
      "        raise ValueError('Array must be 2D for plotting.')\n",
      "    cmap = 'RdBu'\n",
      "    pyplot.matshow(ndarray, cmap=cmap)\n",
      "    pyplot.title(title)\n",
      "    pyplot.xlabel(x_label)\n",
      "    pyplot.ylabel(y_label)\n",
      "    pyplot.colorbar()\n",
      "    pyplot.show()\n",
      "    \n",
      "def plot_distarray(distarray, title, x_label, y_label, transpose=True):\n",
      "    \"\"\"Plot a 2D DistArray.\"\"\"\n",
      "    # Convert to ndarray for plotting.\n",
      "    ndarray = distarray.toarray()\n",
      "    # Transpose to make depth look like depth.\n",
      "    if transpose:\n",
      "        ndarray = ndarray.transpose()\n",
      "    plot_ndarray(ndarray, title, x_label, y_label)    "
     ],
     "language": "python",
     "metadata": {},
     "outputs": []
    },
    {
     "cell_type": "markdown",
     "metadata": {},
     "source": [
      "Slicing\n",
      "-------\n",
      "Now let's take some slices of our seismic volume.  These are 2D sections so that we can plot them.  Notice that we are slicing DistArrays directly.  This works just like slicing NumPy arrays except that we get a DistArray back. We will pick an arbitrary slice of the volume on each axis to plot."
     ]
    },
    {
     "cell_type": "code",
     "collapsed": false,
     "input": [
      "i_index = seismic_volume.shape[0] // 4\n",
      "i_slice = seismic_volume[i_index, :, :]\n",
      "title = 'Vertical Slice [i = %d]' % (i_index)\n",
      "plot_distarray(i_slice, title, 'j', 'depth')"
     ],
     "language": "python",
     "metadata": {},
     "outputs": []
    },
    {
     "cell_type": "code",
     "collapsed": false,
     "input": [
      "j_index = (2 * seismic_volume.shape[1]) // 3\n",
      "j_slice = seismic_volume[:, j_index, :]\n",
      "title = 'Vertical Slice [j = %d]' % (j_index)\n",
      "plot_distarray(j_slice, title, 'i', 'depth')"
     ],
     "language": "python",
     "metadata": {},
     "outputs": []
    },
    {
     "cell_type": "code",
     "collapsed": false,
     "input": [
      "k_index = seismic_volume.shape[2] // 2\n",
      "k_slice = seismic_volume[:, :, k_index]\n",
      "title = 'Horizontal Slice [k = %d]' % (k_index)\n",
      "plot_distarray(k_slice, title, 'i', 'j')"
     ],
     "language": "python",
     "metadata": {},
     "outputs": []
    },
    {
     "cell_type": "markdown",
     "metadata": {},
     "source": [
      "Statistics\n",
      "----------\n",
      "We can calculate statistics on the volume in the same way that we do with NumPy arrays.  Let's calculate several different statistics and make a plot of some of them.  We calculate the statistics for each trace, and the result is a 2D distarray."
     ]
    },
    {
     "cell_type": "code",
     "collapsed": false,
     "input": [
      "trace_min = seismic_volume.min(axis=2)\n",
      "trace_max = seismic_volume.max(axis=2)\n",
      "trace_mean = seismic_volume.mean(axis=2)\n",
      "trace_var = seismic_volume.var(axis=2)\n",
      "trace_std = seismic_volume.std(axis=2)"
     ],
     "language": "python",
     "metadata": {},
     "outputs": []
    },
    {
     "cell_type": "code",
     "collapsed": false,
     "input": [
      "plot_distarray(trace_max, 'Trace Maximum', 'i', 'j', False)\n",
      "plot_distarray(trace_mean, 'Trace Average', 'i', 'j', False)\n",
      "plot_distarray(trace_std, 'Trace Standard Deviation', 'i', 'j', False)"
     ],
     "language": "python",
     "metadata": {},
     "outputs": []
    },
    {
     "cell_type": "markdown",
     "metadata": {},
     "source": [
      "Filtering arrays\n",
      "----------------\n",
      "As another example of an operation on DistArrays, let's apply a 3-point averaging filter along each trace."
     ]
    },
    {
     "cell_type": "code",
     "collapsed": false,
     "input": [
      "def local_filter_avg3(la):\n",
      "    \"\"\"Filter a local array via 3-point average over z axis.\"\"\"\n",
      "\n",
      "    def filter_avg3(a):\n",
      "        \"\"\"Filter a local array via 3-point average over z axis.\n",
      "        \n",
      "        A 2-point average is used at the ends.\n",
      "        \"\"\"\n",
      "        from numpy import empty_like\n",
      "        b = empty_like(a)\n",
      "        b[:, :, 0] = (a[:, :, 0] + a[:, :, 1]) / 2.0\n",
      "        b[:, :, 1:-1] = (a[:, :, :-2] + a[:, :, 1:-1] + a[:, :, 2:]) / 3.0\n",
      "        b[:, :, -1] = (a[:, :, -2] + a[:, :, -1]) / 2.0\n",
      "        return b\n",
      "\n",
      "    from distarray.localapi import LocalArray\n",
      "    a = la.ndarray\n",
      "    b = filter_avg3(a)\n",
      "    res = LocalArray(la.distribution, buf=b)\n",
      "    rtn = proxyize(res)\n",
      "    return rtn"
     ],
     "language": "python",
     "metadata": {},
     "outputs": []
    },
    {
     "cell_type": "code",
     "collapsed": false,
     "input": [
      "context = seismic_volume.context\n",
      "filtered_key = context.apply(local_filter_avg3, (seismic_volume.key,))\n",
      "filtered_volume = DistArray.from_localarrays(filtered_key[0], context=context)\n",
      "print(filtered_volume)"
     ],
     "language": "python",
     "metadata": {},
     "outputs": []
    },
    {
     "cell_type": "markdown",
     "metadata": {},
     "source": [
      "To take a look at our 3D filtered array, let's take a slice and plot it."
     ]
    },
    {
     "cell_type": "code",
     "collapsed": false,
     "input": [
      "i_index = filtered_volume.shape[0] // 4\n",
      "i_slice = filtered_volume[i_index, :, :]\n",
      "title = 'Filtered Vertical Slice [i = %d]' % (i_index)\n",
      "plot_distarray(i_slice, title, 'j', 'depth')"
     ],
     "language": "python",
     "metadata": {},
     "outputs": []
    },
    {
     "cell_type": "markdown",
     "metadata": {},
     "source": [
      "Conclusion\n",
      "----------\n",
      "We have demonstrated a number of features of DistArray here, on a somewhat realistic example.  Hopefully this gives you a flavor of how to use this package!"
     ]
    }
   ],
   "metadata": {}
  }
 ]
}